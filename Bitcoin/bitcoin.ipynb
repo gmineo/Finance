{
 "cells": [
  {
   "cell_type": "code",
   "execution_count": 1,
   "metadata": {},
   "outputs": [],
   "source": [
    "import numpy as np # library to handle data in a vectorized manner\n",
    "\n",
    "import pandas as pd # library for data analsysis\n",
    "pd.set_option('display.max_columns', None)\n",
    "pd.set_option('display.max_rows', None)\n",
    "\n",
    "import json # library to handle JSON files"
   ]
  },
  {
   "cell_type": "code",
   "execution_count": 2,
   "metadata": {},
   "outputs": [
    {
     "name": "stdout",
     "output_type": "stream",
     "text": [
      "Collecting package metadata (current_repodata.json): done\n",
      "Solving environment: done\n",
      "\n",
      "# All requested packages already installed.\n",
      "\n",
      "Libraries imported.\n"
     ]
    }
   ],
   "source": [
    "\n",
    "\n",
    "import requests # library to handle requests\n",
    "from pandas.io.json import json_normalize # tranform JSON file into a pandas dataframe\n",
    "\n",
    "# Matplotlib and associated plotting modules\n",
    "import matplotlib.cm as cm\n",
    "import matplotlib.colors as colors\n",
    "\n",
    "# import k-means from clustering stage\n",
    "from sklearn.cluster import KMeans\n",
    "\n",
    "!conda install -c conda-forge folium=0.5.0 --yes # uncomment this line if you haven't completed the Foursquare API lab\n",
    "import folium # map rendering library\n",
    "\n",
    "import json\n",
    "import requests\n",
    "\n",
    "from sklearn.cluster import KMeans\n",
    "import matplotlib.pyplot as plt\n",
    "import seaborn as sns\n",
    "import re\n",
    "\n",
    "print('Libraries imported.')"
   ]
  },
  {
   "cell_type": "code",
   "execution_count": 3,
   "metadata": {},
   "outputs": [
    {
     "name": "stdout",
     "output_type": "stream",
     "text": [
      "Requirement already satisfied: lxml in /home/jupyterlab/conda/envs/python/lib/python3.6/site-packages (4.6.2)\n",
      "Note: you may need to restart the kernel to use updated packages.\n"
     ]
    }
   ],
   "source": [
    "pip install lxml"
   ]
  },
  {
   "cell_type": "code",
   "execution_count": 4,
   "metadata": {},
   "outputs": [
    {
     "name": "stdout",
     "output_type": "stream",
     "text": [
      "Requirement already satisfied: bs4 in /home/jupyterlab/conda/envs/python/lib/python3.6/site-packages (0.0.1)\n",
      "Requirement already satisfied: beautifulsoup4 in /home/jupyterlab/conda/envs/python/lib/python3.6/site-packages (from bs4) (4.9.3)\n",
      "Requirement already satisfied: soupsieve>1.2; python_version >= \"3.0\" in /home/jupyterlab/conda/envs/python/lib/python3.6/site-packages (from beautifulsoup4->bs4) (2.0.1)\n",
      "Note: you may need to restart the kernel to use updated packages.\n"
     ]
    }
   ],
   "source": [
    "pip install bs4"
   ]
  },
  {
   "cell_type": "code",
   "execution_count": 5,
   "metadata": {},
   "outputs": [],
   "source": [
    "from bs4 import BeautifulSoup"
   ]
  },
  {
   "cell_type": "code",
   "execution_count": 6,
   "metadata": {},
   "outputs": [],
   "source": [
    "from sklearn.cluster import KMeans\n",
    "import matplotlib.pyplot as plt\n",
    "import seaborn as sns\n",
    "import re"
   ]
  },
  {
   "cell_type": "code",
   "execution_count": 7,
   "metadata": {},
   "outputs": [],
   "source": [
    "import lxml"
   ]
  },
  {
   "cell_type": "code",
   "execution_count": 23,
   "metadata": {},
   "outputs": [
    {
     "name": "stdout",
     "output_type": "stream",
     "text": [
      "https://bitinfocharts.com/top-100-richest-bitcoin-addresses.html\n"
     ]
    }
   ],
   "source": [
    "urlinit='https://bitinfocharts.com/top-100-richest-bitcoin-addresses.html'\n",
    "columns = ['0','Address','Balance','% of coins', 'First In','Last In','Number Of Ins','First Out','Last Out', 'Number of Outs']\n",
    "result = pd.DataFrame(columns=columns)\n",
    "page = requests.get(urlinit).text\n",
    "doc = BeautifulSoup(page, 'html.parser')\n",
    "print(urlinit)\n",
    "address = doc.find('table')\n",
    "table = doc.find_all('table')\n",
    "df1 = pd.read_html(str(table))[2]\n",
    "df1.columns = ['0','Address','Balance','% of coins', 'First In','Last In','Number Of Ins','First Out','Last Out', 'Number of Outs']\n",
    "table2 = doc.find_all('table')\n",
    "df2 = pd.read_html(str(table))[3]\n",
    "df2.columns = ['0','Address','Balance','% of coins', 'First In','Last In','Number Of Ins','First Out','Last Out', 'Number of Outs']\n",
    "df3 = pd.concat([df1, df2], axis=0,ignore_index=True)\n",
    "result=df3"
   ]
  },
  {
   "cell_type": "code",
   "execution_count": 24,
   "metadata": {},
   "outputs": [
    {
     "name": "stdout",
     "output_type": "stream",
     "text": [
      "https://bitinfocharts.com/top-100-richest-bitcoin-addresses-2.html\n",
      "https://bitinfocharts.com/top-100-richest-bitcoin-addresses-3.html\n",
      "https://bitinfocharts.com/top-100-richest-bitcoin-addresses-4.html\n",
      "https://bitinfocharts.com/top-100-richest-bitcoin-addresses-5.html\n",
      "https://bitinfocharts.com/top-100-richest-bitcoin-addresses-6.html\n",
      "https://bitinfocharts.com/top-100-richest-bitcoin-addresses-7.html\n",
      "https://bitinfocharts.com/top-100-richest-bitcoin-addresses-8.html\n",
      "https://bitinfocharts.com/top-100-richest-bitcoin-addresses-9.html\n",
      "https://bitinfocharts.com/top-100-richest-bitcoin-addresses-10.html\n",
      "https://bitinfocharts.com/top-100-richest-bitcoin-addresses-11.html\n",
      "https://bitinfocharts.com/top-100-richest-bitcoin-addresses-12.html\n",
      "https://bitinfocharts.com/top-100-richest-bitcoin-addresses-13.html\n",
      "https://bitinfocharts.com/top-100-richest-bitcoin-addresses-14.html\n",
      "https://bitinfocharts.com/top-100-richest-bitcoin-addresses-15.html\n",
      "https://bitinfocharts.com/top-100-richest-bitcoin-addresses-16.html\n",
      "https://bitinfocharts.com/top-100-richest-bitcoin-addresses-17.html\n",
      "https://bitinfocharts.com/top-100-richest-bitcoin-addresses-18.html\n",
      "https://bitinfocharts.com/top-100-richest-bitcoin-addresses-19.html\n",
      "https://bitinfocharts.com/top-100-richest-bitcoin-addresses-20.html\n",
      "Finally finished!\n"
     ]
    }
   ],
   "source": [
    "url1='https://bitinfocharts.com/top-100-richest-bitcoin-addresses-'\n",
    "url2='.html'\n",
    "columns = ['0','Address','Balance','% of coins', 'First In','Last In','Number Of Ins','First Out','Last Out', 'Number of Outs']\n",
    "#result = pd.DataFrame(columns=columns)\n",
    "\n",
    "for x in range(2,21):\n",
    "        url3=url1+str(x)+url2\n",
    "        page = requests.get(url3).text\n",
    "        doc = BeautifulSoup(page, 'html.parser')\n",
    "        print(url3)\n",
    "        address = doc.find('table')\n",
    "        table = doc.find_all('table')\n",
    "        df1 = pd.read_html(str(table))[0]\n",
    "        df1.columns = ['0','Address','Balance','% of coins', 'First In','Last In','Number Of Ins','First Out','Last Out', 'Number of Outs']\n",
    "        table2 = doc.find_all('table')\n",
    "        df2 = pd.read_html(str(table))[1]\n",
    "        df2.columns = ['0','Address','Balance','% of coins', 'First In','Last In','Number Of Ins','First Out','Last Out', 'Number of Outs']\n",
    "        df3 = pd.concat([df1, df2], axis=0,ignore_index=True)\n",
    "        result = pd.concat([result, df3], axis=0,ignore_index=True)\n",
    "else:\n",
    "  print(\"Finally finished!\") "
   ]
  },
  {
   "cell_type": "code",
   "execution_count": 25,
   "metadata": {},
   "outputs": [
    {
     "data": {
      "text/plain": [
       "(2000, 10)"
      ]
     },
     "execution_count": 25,
     "metadata": {},
     "output_type": "execute_result"
    }
   ],
   "source": [
    "result.shape"
   ]
  },
  {
   "cell_type": "code",
   "execution_count": 33,
   "metadata": {},
   "outputs": [
    {
     "data": {
      "text/html": [
       "<div>\n",
       "<style scoped>\n",
       "    .dataframe tbody tr th:only-of-type {\n",
       "        vertical-align: middle;\n",
       "    }\n",
       "\n",
       "    .dataframe tbody tr th {\n",
       "        vertical-align: top;\n",
       "    }\n",
       "\n",
       "    .dataframe thead th {\n",
       "        text-align: right;\n",
       "    }\n",
       "</style>\n",
       "<table border=\"1\" class=\"dataframe\">\n",
       "  <thead>\n",
       "    <tr style=\"text-align: right;\">\n",
       "      <th></th>\n",
       "      <th>0</th>\n",
       "      <th>Address</th>\n",
       "      <th>Balance</th>\n",
       "      <th>% of coins</th>\n",
       "      <th>First In</th>\n",
       "      <th>Last In</th>\n",
       "      <th>Number Of Ins</th>\n",
       "      <th>First Out</th>\n",
       "      <th>Last Out</th>\n",
       "      <th>Number of Outs</th>\n",
       "    </tr>\n",
       "  </thead>\n",
       "  <tbody>\n",
       "    <tr>\n",
       "      <th>3</th>\n",
       "      <td>4</td>\n",
       "      <td>bc1qgdjqv0av3q56jvd82tkdjpy7gdp9ut8tlqmgrpmv24...</td>\n",
       "      <td>74,011 BTC ($1,358,506,852 USD) +17010 BTC / +...</td>\n",
       "      <td>0.3986%</td>\n",
       "      <td>2019-08-16 10:00:29 UTC</td>\n",
       "      <td>2020-12-08 10:25:11 UTC</td>\n",
       "      <td>42</td>\n",
       "      <td>2020-02-02 17:43:14 UTC</td>\n",
       "      <td>2020-11-17 18:16:27 UTC</td>\n",
       "      <td>38.0</td>\n",
       "    </tr>\n",
       "  </tbody>\n",
       "</table>\n",
       "</div>"
      ],
      "text/plain": [
       "   0                                            Address  \\\n",
       "3  4  bc1qgdjqv0av3q56jvd82tkdjpy7gdp9ut8tlqmgrpmv24...   \n",
       "\n",
       "                                             Balance % of coins  \\\n",
       "3  74,011 BTC ($1,358,506,852 USD) +17010 BTC / +...    0.3986%   \n",
       "\n",
       "                  First In                  Last In  Number Of Ins  \\\n",
       "3  2019-08-16 10:00:29 UTC  2020-12-08 10:25:11 UTC             42   \n",
       "\n",
       "                 First Out                 Last Out  Number of Outs  \n",
       "3  2020-02-02 17:43:14 UTC  2020-11-17 18:16:27 UTC            38.0  "
      ]
     },
     "execution_count": 33,
     "metadata": {},
     "output_type": "execute_result"
    }
   ],
   "source": [
    "result.loc[[3]]"
   ]
  },
  {
   "cell_type": "code",
   "execution_count": 34,
   "metadata": {},
   "outputs": [
    {
     "data": {
      "text/plain": [
       "0                                                                 4\n",
       "Address           bc1qgdjqv0av3q56jvd82tkdjpy7gdp9ut8tlqmgrpmv24...\n",
       "Balance           74,011 BTC ($1,358,506,852 USD) +17010 BTC / +...\n",
       "% of coins                                                  0.3986%\n",
       "First In                                    2019-08-16 10:00:29 UTC\n",
       "Last In                                     2020-12-08 10:25:11 UTC\n",
       "Number Of Ins                                                    42\n",
       "First Out                                   2020-02-02 17:43:14 UTC\n",
       "Last Out                                    2020-11-17 18:16:27 UTC\n",
       "Number of Outs                                                   38\n",
       "Name: 3, dtype: object"
      ]
     },
     "execution_count": 34,
     "metadata": {},
     "output_type": "execute_result"
    }
   ],
   "source": [
    "result.loc[3]"
   ]
  },
  {
   "cell_type": "code",
   "execution_count": null,
   "metadata": {},
   "outputs": [],
   "source": []
  },
  {
   "cell_type": "code",
   "execution_count": null,
   "metadata": {},
   "outputs": [],
   "source": []
  }
 ],
 "metadata": {
  "kernelspec": {
   "display_name": "Python",
   "language": "python",
   "name": "conda-env-python-py"
  },
  "language_info": {
   "codemirror_mode": {
    "name": "ipython",
    "version": 3
   },
   "file_extension": ".py",
   "mimetype": "text/x-python",
   "name": "python",
   "nbconvert_exporter": "python",
   "pygments_lexer": "ipython3",
   "version": "3.6.11"
  }
 },
 "nbformat": 4,
 "nbformat_minor": 4
}
