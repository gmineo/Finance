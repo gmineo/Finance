{
 "cells": [
  {
   "cell_type": "code",
   "execution_count": 1,
   "metadata": {},
   "outputs": [],
   "source": [
    "import pandas as pd"
   ]
  },
  {
   "cell_type": "code",
   "execution_count": 2,
   "metadata": {},
   "outputs": [
    {
     "name": "stdout",
     "output_type": "stream",
     "text": [
      "Collecting package metadata (current_repodata.json): done\n",
      "Solving environment: done\n",
      "\n",
      "# All requested packages already installed.\n",
      "\n"
     ]
    }
   ],
   "source": [
    "!conda install -c quantopian ta-lib --yes"
   ]
  },
  {
   "cell_type": "code",
   "execution_count": 3,
   "metadata": {},
   "outputs": [],
   "source": [
    "lng = pd.read_csv(\"LNG.csv\", index_col=0)"
   ]
  },
  {
   "cell_type": "code",
   "execution_count": 4,
   "metadata": {},
   "outputs": [],
   "source": [
    "spy = pd.read_csv(\"SPY.csv\", index_col=0)"
   ]
  },
  {
   "cell_type": "code",
   "execution_count": 5,
   "metadata": {},
   "outputs": [
    {
     "data": {
      "text/html": [
       "<div>\n",
       "<style scoped>\n",
       "    .dataframe tbody tr th:only-of-type {\n",
       "        vertical-align: middle;\n",
       "    }\n",
       "\n",
       "    .dataframe tbody tr th {\n",
       "        vertical-align: top;\n",
       "    }\n",
       "\n",
       "    .dataframe thead th {\n",
       "        text-align: right;\n",
       "    }\n",
       "</style>\n",
       "<table border=\"1\" class=\"dataframe\">\n",
       "  <thead>\n",
       "    <tr style=\"text-align: right;\">\n",
       "      <th></th>\n",
       "      <th>Adj_Close</th>\n",
       "      <th>Adj_Volume</th>\n",
       "    </tr>\n",
       "    <tr>\n",
       "      <th>Date</th>\n",
       "      <th></th>\n",
       "      <th></th>\n",
       "    </tr>\n",
       "  </thead>\n",
       "  <tbody>\n",
       "    <tr>\n",
       "      <th>1994-04-04</th>\n",
       "      <td>72.0</td>\n",
       "      <td>0.0</td>\n",
       "    </tr>\n",
       "    <tr>\n",
       "      <th>1994-04-05</th>\n",
       "      <td>108.0</td>\n",
       "      <td>0.0</td>\n",
       "    </tr>\n",
       "    <tr>\n",
       "      <th>1994-04-06</th>\n",
       "      <td>108.0</td>\n",
       "      <td>0.0</td>\n",
       "    </tr>\n",
       "    <tr>\n",
       "      <th>1994-04-07</th>\n",
       "      <td>108.0</td>\n",
       "      <td>0.0</td>\n",
       "    </tr>\n",
       "    <tr>\n",
       "      <th>1994-04-08</th>\n",
       "      <td>108.0</td>\n",
       "      <td>0.0</td>\n",
       "    </tr>\n",
       "  </tbody>\n",
       "</table>\n",
       "</div>"
      ],
      "text/plain": [
       "            Adj_Close  Adj_Volume\n",
       "Date                             \n",
       "1994-04-04       72.0         0.0\n",
       "1994-04-05      108.0         0.0\n",
       "1994-04-06      108.0         0.0\n",
       "1994-04-07      108.0         0.0\n",
       "1994-04-08      108.0         0.0"
      ]
     },
     "execution_count": 5,
     "metadata": {},
     "output_type": "execute_result"
    }
   ],
   "source": [
    "lng.head()"
   ]
  },
  {
   "cell_type": "code",
   "execution_count": 6,
   "metadata": {},
   "outputs": [],
   "source": [
    "lng_df = lng['2016-04-15':'2018-04-10']"
   ]
  },
  {
   "cell_type": "code",
   "execution_count": 7,
   "metadata": {},
   "outputs": [
    {
     "data": {
      "text/html": [
       "<div>\n",
       "<style scoped>\n",
       "    .dataframe tbody tr th:only-of-type {\n",
       "        vertical-align: middle;\n",
       "    }\n",
       "\n",
       "    .dataframe tbody tr th {\n",
       "        vertical-align: top;\n",
       "    }\n",
       "\n",
       "    .dataframe thead th {\n",
       "        text-align: right;\n",
       "    }\n",
       "</style>\n",
       "<table border=\"1\" class=\"dataframe\">\n",
       "  <thead>\n",
       "    <tr style=\"text-align: right;\">\n",
       "      <th></th>\n",
       "      <th>Adj_Close</th>\n",
       "      <th>Adj_Volume</th>\n",
       "    </tr>\n",
       "    <tr>\n",
       "      <th>Date</th>\n",
       "      <th></th>\n",
       "      <th></th>\n",
       "    </tr>\n",
       "  </thead>\n",
       "  <tbody>\n",
       "    <tr>\n",
       "      <th>2016-04-15</th>\n",
       "      <td>37.13</td>\n",
       "      <td>4293775.0</td>\n",
       "    </tr>\n",
       "    <tr>\n",
       "      <th>2016-04-18</th>\n",
       "      <td>36.90</td>\n",
       "      <td>3445852.0</td>\n",
       "    </tr>\n",
       "    <tr>\n",
       "      <th>2016-04-19</th>\n",
       "      <td>37.12</td>\n",
       "      <td>3748050.0</td>\n",
       "    </tr>\n",
       "    <tr>\n",
       "      <th>2016-04-20</th>\n",
       "      <td>37.77</td>\n",
       "      <td>2470384.0</td>\n",
       "    </tr>\n",
       "    <tr>\n",
       "      <th>2016-04-21</th>\n",
       "      <td>37.21</td>\n",
       "      <td>2043988.0</td>\n",
       "    </tr>\n",
       "    <tr>\n",
       "      <th>...</th>\n",
       "      <td>...</td>\n",
       "      <td>...</td>\n",
       "    </tr>\n",
       "    <tr>\n",
       "      <th>2018-04-04</th>\n",
       "      <td>54.30</td>\n",
       "      <td>1816771.0</td>\n",
       "    </tr>\n",
       "    <tr>\n",
       "      <th>2018-04-05</th>\n",
       "      <td>56.21</td>\n",
       "      <td>2533635.0</td>\n",
       "    </tr>\n",
       "    <tr>\n",
       "      <th>2018-04-06</th>\n",
       "      <td>54.36</td>\n",
       "      <td>1754446.0</td>\n",
       "    </tr>\n",
       "    <tr>\n",
       "      <th>2018-04-09</th>\n",
       "      <td>54.10</td>\n",
       "      <td>1203998.0</td>\n",
       "    </tr>\n",
       "    <tr>\n",
       "      <th>2018-04-10</th>\n",
       "      <td>55.63</td>\n",
       "      <td>3430268.0</td>\n",
       "    </tr>\n",
       "  </tbody>\n",
       "</table>\n",
       "<p>500 rows × 2 columns</p>\n",
       "</div>"
      ],
      "text/plain": [
       "            Adj_Close  Adj_Volume\n",
       "Date                             \n",
       "2016-04-15      37.13   4293775.0\n",
       "2016-04-18      36.90   3445852.0\n",
       "2016-04-19      37.12   3748050.0\n",
       "2016-04-20      37.77   2470384.0\n",
       "2016-04-21      37.21   2043988.0\n",
       "...               ...         ...\n",
       "2018-04-04      54.30   1816771.0\n",
       "2018-04-05      56.21   2533635.0\n",
       "2018-04-06      54.36   1754446.0\n",
       "2018-04-09      54.10   1203998.0\n",
       "2018-04-10      55.63   3430268.0\n",
       "\n",
       "[500 rows x 2 columns]"
      ]
     },
     "execution_count": 7,
     "metadata": {},
     "output_type": "execute_result"
    }
   ],
   "source": [
    "lng_df"
   ]
  },
  {
   "cell_type": "code",
   "execution_count": 8,
   "metadata": {},
   "outputs": [],
   "source": [
    "spy_df = spy['2016-04-15':'2018-04-10']"
   ]
  },
  {
   "cell_type": "code",
   "execution_count": 9,
   "metadata": {},
   "outputs": [
    {
     "data": {
      "text/html": [
       "<div>\n",
       "<style scoped>\n",
       "    .dataframe tbody tr th:only-of-type {\n",
       "        vertical-align: middle;\n",
       "    }\n",
       "\n",
       "    .dataframe tbody tr th {\n",
       "        vertical-align: top;\n",
       "    }\n",
       "\n",
       "    .dataframe thead th {\n",
       "        text-align: right;\n",
       "    }\n",
       "</style>\n",
       "<table border=\"1\" class=\"dataframe\">\n",
       "  <thead>\n",
       "    <tr style=\"text-align: right;\">\n",
       "      <th></th>\n",
       "      <th>Adj_Close</th>\n",
       "      <th>Adj_Volume</th>\n",
       "    </tr>\n",
       "    <tr>\n",
       "      <th>Date</th>\n",
       "      <th></th>\n",
       "      <th></th>\n",
       "    </tr>\n",
       "  </thead>\n",
       "  <tbody>\n",
       "    <tr>\n",
       "      <th>2016-04-15</th>\n",
       "      <td>199.760673</td>\n",
       "      <td>75761600.0</td>\n",
       "    </tr>\n",
       "    <tr>\n",
       "      <th>2016-04-18</th>\n",
       "      <td>201.164330</td>\n",
       "      <td>75277700.0</td>\n",
       "    </tr>\n",
       "    <tr>\n",
       "      <th>2016-04-19</th>\n",
       "      <td>201.798846</td>\n",
       "      <td>88316100.0</td>\n",
       "    </tr>\n",
       "    <tr>\n",
       "      <th>2016-04-20</th>\n",
       "      <td>201.991139</td>\n",
       "      <td>81100300.0</td>\n",
       "    </tr>\n",
       "    <tr>\n",
       "      <th>2016-04-21</th>\n",
       "      <td>200.904747</td>\n",
       "      <td>85695000.0</td>\n",
       "    </tr>\n",
       "    <tr>\n",
       "      <th>...</th>\n",
       "      <td>...</td>\n",
       "      <td>...</td>\n",
       "    </tr>\n",
       "    <tr>\n",
       "      <th>2018-04-04</th>\n",
       "      <td>263.560000</td>\n",
       "      <td>123574054.0</td>\n",
       "    </tr>\n",
       "    <tr>\n",
       "      <th>2018-04-05</th>\n",
       "      <td>265.640000</td>\n",
       "      <td>80993290.0</td>\n",
       "    </tr>\n",
       "    <tr>\n",
       "      <th>2018-04-06</th>\n",
       "      <td>259.720000</td>\n",
       "      <td>179483634.0</td>\n",
       "    </tr>\n",
       "    <tr>\n",
       "      <th>2018-04-09</th>\n",
       "      <td>261.000000</td>\n",
       "      <td>105442932.0</td>\n",
       "    </tr>\n",
       "    <tr>\n",
       "      <th>2018-04-10</th>\n",
       "      <td>265.150000</td>\n",
       "      <td>NaN</td>\n",
       "    </tr>\n",
       "  </tbody>\n",
       "</table>\n",
       "<p>500 rows × 2 columns</p>\n",
       "</div>"
      ],
      "text/plain": [
       "             Adj_Close   Adj_Volume\n",
       "Date                               \n",
       "2016-04-15  199.760673   75761600.0\n",
       "2016-04-18  201.164330   75277700.0\n",
       "2016-04-19  201.798846   88316100.0\n",
       "2016-04-20  201.991139   81100300.0\n",
       "2016-04-21  200.904747   85695000.0\n",
       "...                ...          ...\n",
       "2018-04-04  263.560000  123574054.0\n",
       "2018-04-05  265.640000   80993290.0\n",
       "2018-04-06  259.720000  179483634.0\n",
       "2018-04-09  261.000000  105442932.0\n",
       "2018-04-10  265.150000          NaN\n",
       "\n",
       "[500 rows x 2 columns]"
      ]
     },
     "execution_count": 9,
     "metadata": {},
     "output_type": "execute_result"
    }
   ],
   "source": [
    "spy_df"
   ]
  },
  {
   "cell_type": "code",
   "execution_count": 10,
   "metadata": {},
   "outputs": [
    {
     "name": "stdout",
     "output_type": "stream",
     "text": [
      "Requirement already satisfied: matplotlib in /home/jupyterlab/conda/envs/python/lib/python3.6/site-packages (3.1.1)\n",
      "Requirement already satisfied: pyparsing!=2.0.4,!=2.1.2,!=2.1.6,>=2.0.1 in /home/jupyterlab/conda/envs/python/lib/python3.6/site-packages (from matplotlib) (2.4.7)\n",
      "Requirement already satisfied: python-dateutil>=2.1 in /home/jupyterlab/conda/envs/python/lib/python3.6/site-packages (from matplotlib) (2.8.1)\n",
      "Requirement already satisfied: numpy>=1.11 in /home/jupyterlab/conda/envs/python/lib/python3.6/site-packages (from matplotlib) (1.14.6)\n",
      "Requirement already satisfied: kiwisolver>=1.0.1 in /home/jupyterlab/conda/envs/python/lib/python3.6/site-packages (from matplotlib) (1.2.0)\n",
      "Requirement already satisfied: cycler>=0.10 in /home/jupyterlab/conda/envs/python/lib/python3.6/site-packages (from matplotlib) (0.10.0)\n",
      "Requirement already satisfied: six>=1.5 in /home/jupyterlab/conda/envs/python/lib/python3.6/site-packages (from python-dateutil>=2.1->matplotlib) (1.14.0)\n",
      "Note: you may need to restart the kernel to use updated packages.\n"
     ]
    }
   ],
   "source": [
    "pip install matplotlib"
   ]
  },
  {
   "cell_type": "code",
   "execution_count": 11,
   "metadata": {},
   "outputs": [],
   "source": [
    "import matplotlib.pyplot as plt"
   ]
  },
  {
   "cell_type": "code",
   "execution_count": 12,
   "metadata": {},
   "outputs": [
    {
     "data": {
      "image/png": "[encoded data removed]",
      "text/plain": [
       "<Figure size 432x288 with 2 Axes>"
      ]
     },
     "metadata": {
      "needs_background": "light"
     },
     "output_type": "display_data"
    }
   ],
   "source": [
    "# Plot the Adj_Close columns for SPY and LNG\n",
    "spy_df['Adj_Close'].plot(label='SPY', legend=True)\n",
    "lng_df['Adj_Close'].plot(label='LNG', legend=True, secondary_y=True)\n",
    "plt.show()  # show the plot"
   ]
  },
  {
   "cell_type": "code",
   "execution_count": 13,
   "metadata": {},
   "outputs": [
    {
     "data": {
      "text/plain": [
       "<Figure size 432x288 with 0 Axes>"
      ]
     },
     "metadata": {},
     "output_type": "display_data"
    }
   ],
   "source": [
    "plt.clf()  # clear the plot space"
   ]
  },
  {
   "cell_type": "code",
   "execution_count": 14,
   "metadata": {},
   "outputs": [
    {
     "data": {
      "image/png": "[encoded data removed]",
      "text/plain": [
       "<Figure size 432x288 with 1 Axes>"
      ]
     },
     "metadata": {
      "needs_background": "light"
     },
     "output_type": "display_data"
    }
   ],
   "source": [
    "# Histogram of the daily price change percent of Adj_Close for LNG\n",
    "lng_df['Adj_Close'].pct_change().plot.hist(bins=50)\n",
    "plt.xlabel('adjusted close 1-day percent change')\n",
    "plt.show()"
   ]
  },
  {
   "cell_type": "code",
   "execution_count": 15,
   "metadata": {},
   "outputs": [
    {
     "name": "stderr",
     "output_type": "stream",
     "text": [
      "/home/jupyterlab/conda/envs/python/lib/python3.6/site-packages/ipykernel_launcher.py:2: SettingWithCopyWarning: \n",
      "A value is trying to be set on a copy of a slice from a DataFrame.\n",
      "Try using .loc[row_indexer,col_indexer] = value instead\n",
      "\n",
      "See the caveats in the documentation: https://pandas.pydata.org/pandas-docs/stable/user_guide/indexing.html#returning-a-view-versus-a-copy\n",
      "  \n",
      "/home/jupyterlab/conda/envs/python/lib/python3.6/site-packages/ipykernel_launcher.py:3: SettingWithCopyWarning: \n",
      "A value is trying to be set on a copy of a slice from a DataFrame.\n",
      "Try using .loc[row_indexer,col_indexer] = value instead\n",
      "\n",
      "See the caveats in the documentation: https://pandas.pydata.org/pandas-docs/stable/user_guide/indexing.html#returning-a-view-versus-a-copy\n",
      "  This is separate from the ipykernel package so we can avoid doing imports until\n",
      "/home/jupyterlab/conda/envs/python/lib/python3.6/site-packages/ipykernel_launcher.py:4: SettingWithCopyWarning: \n",
      "A value is trying to be set on a copy of a slice from a DataFrame.\n",
      "Try using .loc[row_indexer,col_indexer] = value instead\n",
      "\n",
      "See the caveats in the documentation: https://pandas.pydata.org/pandas-docs/stable/user_guide/indexing.html#returning-a-view-versus-a-copy\n",
      "  after removing the cwd from sys.path.\n"
     ]
    }
   ],
   "source": [
    "# Create 5-day % changes of Adj_Close for the current day, and 5 days in the future\n",
    "lng_df['5d_future_close'] = lng_df['Adj_Close'].shift(-5)\n",
    "lng_df['5d_close_future_pct'] = lng_df['5d_future_close'].pct_change(5)\n",
    "lng_df['5d_close_pct'] = lng_df['Adj_Close'].pct_change(5)"
   ]
  },
  {
   "cell_type": "code",
   "execution_count": 16,
   "metadata": {},
   "outputs": [
    {
     "data": {
      "text/html": [
       "<div>\n",
       "<style scoped>\n",
       "    .dataframe tbody tr th:only-of-type {\n",
       "        vertical-align: middle;\n",
       "    }\n",
       "\n",
       "    .dataframe tbody tr th {\n",
       "        vertical-align: top;\n",
       "    }\n",
       "\n",
       "    .dataframe thead th {\n",
       "        text-align: right;\n",
       "    }\n",
       "</style>\n",
       "<table border=\"1\" class=\"dataframe\">\n",
       "  <thead>\n",
       "    <tr style=\"text-align: right;\">\n",
       "      <th></th>\n",
       "      <th>Adj_Close</th>\n",
       "      <th>Adj_Volume</th>\n",
       "      <th>5d_future_close</th>\n",
       "      <th>5d_close_future_pct</th>\n",
       "      <th>5d_close_pct</th>\n",
       "    </tr>\n",
       "    <tr>\n",
       "      <th>Date</th>\n",
       "      <th></th>\n",
       "      <th></th>\n",
       "      <th></th>\n",
       "      <th></th>\n",
       "      <th></th>\n",
       "    </tr>\n",
       "  </thead>\n",
       "  <tbody>\n",
       "    <tr>\n",
       "      <th>2016-04-15</th>\n",
       "      <td>37.13</td>\n",
       "      <td>4293775.0</td>\n",
       "      <td>37.40</td>\n",
       "      <td>NaN</td>\n",
       "      <td>NaN</td>\n",
       "    </tr>\n",
       "    <tr>\n",
       "      <th>2016-04-18</th>\n",
       "      <td>36.90</td>\n",
       "      <td>3445852.0</td>\n",
       "      <td>36.75</td>\n",
       "      <td>NaN</td>\n",
       "      <td>NaN</td>\n",
       "    </tr>\n",
       "    <tr>\n",
       "      <th>2016-04-19</th>\n",
       "      <td>37.12</td>\n",
       "      <td>3748050.0</td>\n",
       "      <td>37.25</td>\n",
       "      <td>NaN</td>\n",
       "      <td>NaN</td>\n",
       "    </tr>\n",
       "    <tr>\n",
       "      <th>2016-04-20</th>\n",
       "      <td>37.77</td>\n",
       "      <td>2470384.0</td>\n",
       "      <td>39.11</td>\n",
       "      <td>NaN</td>\n",
       "      <td>NaN</td>\n",
       "    </tr>\n",
       "    <tr>\n",
       "      <th>2016-04-21</th>\n",
       "      <td>37.21</td>\n",
       "      <td>2043988.0</td>\n",
       "      <td>38.62</td>\n",
       "      <td>NaN</td>\n",
       "      <td>NaN</td>\n",
       "    </tr>\n",
       "    <tr>\n",
       "      <th>...</th>\n",
       "      <td>...</td>\n",
       "      <td>...</td>\n",
       "      <td>...</td>\n",
       "      <td>...</td>\n",
       "      <td>...</td>\n",
       "    </tr>\n",
       "    <tr>\n",
       "      <th>2018-04-04</th>\n",
       "      <td>54.30</td>\n",
       "      <td>1816771.0</td>\n",
       "      <td>NaN</td>\n",
       "      <td>0.024494</td>\n",
       "      <td>0.023370</td>\n",
       "    </tr>\n",
       "    <tr>\n",
       "      <th>2018-04-05</th>\n",
       "      <td>56.21</td>\n",
       "      <td>2533635.0</td>\n",
       "      <td>NaN</td>\n",
       "      <td>-0.010318</td>\n",
       "      <td>0.074761</td>\n",
       "    </tr>\n",
       "    <tr>\n",
       "      <th>2018-04-06</th>\n",
       "      <td>54.36</td>\n",
       "      <td>1754446.0</td>\n",
       "      <td>NaN</td>\n",
       "      <td>0.023363</td>\n",
       "      <td>0.017025</td>\n",
       "    </tr>\n",
       "    <tr>\n",
       "      <th>2018-04-09</th>\n",
       "      <td>54.10</td>\n",
       "      <td>1203998.0</td>\n",
       "      <td>NaN</td>\n",
       "      <td>0.028281</td>\n",
       "      <td>0.020947</td>\n",
       "    </tr>\n",
       "    <tr>\n",
       "      <th>2018-04-10</th>\n",
       "      <td>55.63</td>\n",
       "      <td>3430268.0</td>\n",
       "      <td>NaN</td>\n",
       "      <td>0.000000</td>\n",
       "      <td>0.030567</td>\n",
       "    </tr>\n",
       "  </tbody>\n",
       "</table>\n",
       "<p>500 rows × 5 columns</p>\n",
       "</div>"
      ],
      "text/plain": [
       "            Adj_Close  Adj_Volume  5d_future_close  5d_close_future_pct  \\\n",
       "Date                                                                      \n",
       "2016-04-15      37.13   4293775.0            37.40                  NaN   \n",
       "2016-04-18      36.90   3445852.0            36.75                  NaN   \n",
       "2016-04-19      37.12   3748050.0            37.25                  NaN   \n",
       "2016-04-20      37.77   2470384.0            39.11                  NaN   \n",
       "2016-04-21      37.21   2043988.0            38.62                  NaN   \n",
       "...               ...         ...              ...                  ...   \n",
       "2018-04-04      54.30   1816771.0              NaN             0.024494   \n",
       "2018-04-05      56.21   2533635.0              NaN            -0.010318   \n",
       "2018-04-06      54.36   1754446.0              NaN             0.023363   \n",
       "2018-04-09      54.10   1203998.0              NaN             0.028281   \n",
       "2018-04-10      55.63   3430268.0              NaN             0.000000   \n",
       "\n",
       "            5d_close_pct  \n",
       "Date                      \n",
       "2016-04-15           NaN  \n",
       "2016-04-18           NaN  \n",
       "2016-04-19           NaN  \n",
       "2016-04-20           NaN  \n",
       "2016-04-21           NaN  \n",
       "...                  ...  \n",
       "2018-04-04      0.023370  \n",
       "2018-04-05      0.074761  \n",
       "2018-04-06      0.017025  \n",
       "2018-04-09      0.020947  \n",
       "2018-04-10      0.030567  \n",
       "\n",
       "[500 rows x 5 columns]"
      ]
     },
     "execution_count": 16,
     "metadata": {},
     "output_type": "execute_result"
    }
   ],
   "source": [
    "lng_df"
   ]
  },
  {
   "cell_type": "code",
   "execution_count": 17,
   "metadata": {},
   "outputs": [
    {
     "name": "stdout",
     "output_type": "stream",
     "text": [
      "                     5d_close_pct  5d_close_future_pct\n",
      "5d_close_pct             1.000000            -0.164861\n",
      "5d_close_future_pct     -0.164861             1.000000\n"
     ]
    }
   ],
   "source": [
    "# Calculate the correlation matrix between the 5d close pecentage changes (current and future)\n",
    "corr = lng_df[['5d_close_pct', '5d_close_future_pct']].corr()\n",
    "print(corr)"
   ]
  },
  {
   "cell_type": "code",
   "execution_count": 18,
   "metadata": {},
   "outputs": [
    {
     "data": {
      "image/png": "[encoded data removed]",
      "text/plain": [
       "<Figure size 432x288 with 1 Axes>"
      ]
     },
     "metadata": {
      "needs_background": "light"
     },
     "output_type": "display_data"
    }
   ],
   "source": [
    "# Scatter the current 5-day percent change vs the future 5-day percent change\n",
    "plt.scatter(lng_df['5d_close_pct'], lng_df['5d_close_future_pct'])\n",
    "plt.show()"
   ]
  },
  {
   "cell_type": "code",
   "execution_count": 19,
   "metadata": {},
   "outputs": [],
   "source": [
    "feature_names = ['5d_close_pct']  # a list of the feature names for later"
   ]
  },
  {
   "cell_type": "code",
   "execution_count": 20,
   "metadata": {},
   "outputs": [],
   "source": [
    "import talib\n"
   ]
  },
  {
   "cell_type": "code",
   "execution_count": 21,
   "metadata": {},
   "outputs": [
    {
     "name": "stdout",
     "output_type": "stream",
     "text": [
      "['5d_close_pct', 'ma14', 'rsi14', 'ma30', 'rsi30', 'ma50', 'rsi50', 'ma200', 'rsi200']\n"
     ]
    },
    {
     "name": "stderr",
     "output_type": "stream",
     "text": [
      "/home/jupyterlab/conda/envs/python/lib/python3.6/site-packages/ipykernel_launcher.py:6: SettingWithCopyWarning: \n",
      "A value is trying to be set on a copy of a slice from a DataFrame.\n",
      "Try using .loc[row_indexer,col_indexer] = value instead\n",
      "\n",
      "See the caveats in the documentation: https://pandas.pydata.org/pandas-docs/stable/user_guide/indexing.html#returning-a-view-versus-a-copy\n",
      "  \n",
      "/home/jupyterlab/conda/envs/python/lib/python3.6/site-packages/ipykernel_launcher.py:8: SettingWithCopyWarning: \n",
      "A value is trying to be set on a copy of a slice from a DataFrame.\n",
      "Try using .loc[row_indexer,col_indexer] = value instead\n",
      "\n",
      "See the caveats in the documentation: https://pandas.pydata.org/pandas-docs/stable/user_guide/indexing.html#returning-a-view-versus-a-copy\n",
      "  \n"
     ]
    }
   ],
   "source": [
    "# Create moving averages and rsi for timeperiods of 14, 30, 50, and 200\n",
    "for n in [14,30,50,200]:\n",
    "\n",
    "    # Create the moving average indicator and divide by Adj_Close\n",
    "    lng_df['ma' + str(n)] = talib.SMA(lng_df['Adj_Close'].values,\n",
    "                              timeperiod=n) / lng_df['Adj_Close']\n",
    "    # Create the RSI indicator\n",
    "    lng_df['rsi' + str(n)] = talib.RSI(lng_df['Adj_Close'].values, timeperiod=n)\n",
    "    \n",
    "    # Add rsi and moving average to the feature name list\n",
    "    feature_names = feature_names + ['ma' + str(n), 'rsi' + str(n)]\n",
    "    \n",
    "print(feature_names)"
   ]
  },
  {
   "cell_type": "code",
   "execution_count": 22,
   "metadata": {},
   "outputs": [],
   "source": [
    "# Drop all na values\n",
    "lng_df = lng_df.dropna()"
   ]
  },
  {
   "cell_type": "code",
   "execution_count": 23,
   "metadata": {},
   "outputs": [],
   "source": [
    "# Create features and targets\n",
    "# use feature_names for features; '5d_close_future_pct' for targets\n",
    "features = lng_df[feature_names]\n",
    "targets = lng_df['5d_close_future_pct']"
   ]
  },
  {
   "cell_type": "code",
   "execution_count": 24,
   "metadata": {},
   "outputs": [],
   "source": [
    "# Create DataFrame from target column and feature columns\n",
    "feature_and_target_cols = ['5d_close_future_pct'] + feature_names\n",
    "feat_targ_df = lng_df[feature_and_target_cols]"
   ]
  },
  {
   "cell_type": "code",
   "execution_count": 25,
   "metadata": {},
   "outputs": [
    {
     "name": "stdout",
     "output_type": "stream",
     "text": [
      "                     5d_close_future_pct  5d_close_pct      ma14     rsi14  \\\n",
      "5d_close_future_pct             1.000000     -0.047183  0.096373 -0.068888   \n",
      "5d_close_pct                   -0.047183      1.000000 -0.827699  0.683973   \n",
      "ma14                            0.096373     -0.827699  1.000000 -0.877566   \n",
      "rsi14                          -0.068888      0.683973 -0.877566  1.000000   \n",
      "ma30                            0.102744     -0.609573  0.848778 -0.964795   \n",
      "rsi30                          -0.106279      0.518748 -0.713427  0.935711   \n",
      "ma50                            0.113444     -0.475081  0.692689 -0.916540   \n",
      "rsi50                          -0.138946      0.426045 -0.601849  0.845788   \n",
      "ma200                           0.230860     -0.220690  0.346457 -0.551087   \n",
      "rsi200                         -0.221029      0.284021 -0.416221  0.639057   \n",
      "\n",
      "                         ma30     rsi30      ma50     rsi50     ma200  \\\n",
      "5d_close_future_pct  0.102744 -0.106279  0.113444 -0.138946  0.230860   \n",
      "5d_close_pct        -0.609573  0.518748 -0.475081  0.426045 -0.220690   \n",
      "ma14                 0.848778 -0.713427  0.692689 -0.601849  0.346457   \n",
      "rsi14               -0.964795  0.935711 -0.916540  0.845788 -0.551087   \n",
      "ma30                 1.000000 -0.900934  0.925715 -0.805506  0.527767   \n",
      "rsi30               -0.900934  1.000000 -0.962825  0.975608 -0.761846   \n",
      "ma50                 0.925715 -0.962825  1.000000 -0.915729  0.693863   \n",
      "rsi50               -0.805506  0.975608 -0.915729  1.000000 -0.871883   \n",
      "ma200                0.527767 -0.761846  0.693863 -0.871883  1.000000   \n",
      "rsi200              -0.600068  0.834532 -0.750857  0.930507 -0.976110   \n",
      "\n",
      "                       rsi200  \n",
      "5d_close_future_pct -0.221029  \n",
      "5d_close_pct         0.284021  \n",
      "ma14                -0.416221  \n",
      "rsi14                0.639057  \n",
      "ma30                -0.600068  \n",
      "rsi30                0.834532  \n",
      "ma50                -0.750857  \n",
      "rsi50                0.930507  \n",
      "ma200               -0.976110  \n",
      "rsi200               1.000000  \n"
     ]
    }
   ],
   "source": [
    "# Calculate correlation matrix\n",
    "corr = feat_targ_df.corr()\n",
    "print(corr)"
   ]
  },
  {
   "cell_type": "code",
   "execution_count": 26,
   "metadata": {},
   "outputs": [
    {
     "name": "stderr",
     "output_type": "stream",
     "text": [
      "/home/jupyterlab/.local/lib/python3.6/site-packages/statsmodels/tools/_testing.py:19: FutureWarning: pandas.util.testing is deprecated. Use the functions in the public API at pandas.testing instead.\n",
      "  import pandas.util.testing as tm\n"
     ]
    }
   ],
   "source": [
    "import seaborn as sns"
   ]
  },
  {
   "cell_type": "code",
   "execution_count": 27,
   "metadata": {},
   "outputs": [
    {
     "data": {
      "image/png": "[encoded data removed]",
      "text/plain": [
       "<Figure size 432x288 with 2 Axes>"
      ]
     },
     "metadata": {
      "needs_background": "light"
     },
     "output_type": "display_data"
    },
    {
     "data": {
      "text/plain": [
       "<Figure size 432x288 with 0 Axes>"
      ]
     },
     "metadata": {},
     "output_type": "display_data"
    }
   ],
   "source": [
    "# Plot heatmap of correlation matrix\n",
    "sns.heatmap(corr, annot=True, annot_kws = {\"size\": 14})\n",
    "plt.yticks(rotation=0, size = 14); plt.xticks(rotation=90, size = 14)  # fix ticklabel directions and size\n",
    "plt.tight_layout()  # fits plot area to the plot, \"tightly\"\n",
    "plt.show()  # show the plot\n",
    "plt.clf()  # clear the plot area"
   ]
  },
  {
   "cell_type": "code",
   "execution_count": 28,
   "metadata": {},
   "outputs": [
    {
     "data": {
      "image/png": "[encoded data removed]",
      "text/plain": [
       "<Figure size 432x288 with 1 Axes>"
      ]
     },
     "metadata": {
      "needs_background": "light"
     },
     "output_type": "display_data"
    }
   ],
   "source": [
    "# Create a scatter plot of the most highly correlated variable with the target\n",
    "plt.scatter(lng_df['ma200'], lng_df['5d_close_future_pct'])\n",
    "plt.show()"
   ]
  },
  {
   "cell_type": "code",
   "execution_count": 29,
   "metadata": {},
   "outputs": [],
   "source": [
    "#conda install -c conda-forge statsmodels"
   ]
  },
  {
   "cell_type": "code",
   "execution_count": 30,
   "metadata": {},
   "outputs": [],
   "source": [
    "import numpy as np"
   ]
  },
  {
   "cell_type": "code",
   "execution_count": 31,
   "metadata": {},
   "outputs": [],
   "source": [
    "#pip uninstall statsmodels -y"
   ]
  },
  {
   "cell_type": "code",
   "execution_count": 32,
   "metadata": {},
   "outputs": [
    {
     "name": "stdout",
     "output_type": "stream",
     "text": [
      "Requirement already satisfied: statsmodels==0.10.0rc2 in /home/jupyterlab/.local/lib/python3.6/site-packages (0.10.0rc2)\n",
      "Requirement already satisfied: patsy>=0.4.0 in /home/jupyterlab/.local/lib/python3.6/site-packages (from statsmodels==0.10.0rc2) (0.5.1)\n",
      "Requirement already satisfied: numpy>=1.11 in /home/jupyterlab/conda/envs/python/lib/python3.6/site-packages (from statsmodels==0.10.0rc2) (1.14.6)\n",
      "Requirement already satisfied: scipy>=0.18 in /home/jupyterlab/conda/envs/python/lib/python3.6/site-packages (from statsmodels==0.10.0rc2) (1.4.1)\n",
      "Requirement already satisfied: pandas>=0.19 in /home/jupyterlab/conda/envs/python/lib/python3.6/site-packages (from statsmodels==0.10.0rc2) (1.0.3)\n",
      "Requirement already satisfied: six in /home/jupyterlab/conda/envs/python/lib/python3.6/site-packages (from patsy>=0.4.0->statsmodels==0.10.0rc2) (1.14.0)\n",
      "Requirement already satisfied: pytz>=2017.2 in /home/jupyterlab/conda/envs/python/lib/python3.6/site-packages (from pandas>=0.19->statsmodels==0.10.0rc2) (2020.1)\n",
      "Requirement already satisfied: python-dateutil>=2.6.1 in /home/jupyterlab/conda/envs/python/lib/python3.6/site-packages (from pandas>=0.19->statsmodels==0.10.0rc2) (2.8.1)\n",
      "Note: you may need to restart the kernel to use updated packages.\n"
     ]
    }
   ],
   "source": [
    "pip install statsmodels==0.10.0rc2 --pre --user"
   ]
  },
  {
   "cell_type": "code",
   "execution_count": 33,
   "metadata": {},
   "outputs": [],
   "source": [
    "#Import the statsmodels.api library with the alias sm\n",
    "import statsmodels as sm"
   ]
  },
  {
   "cell_type": "code",
   "execution_count": 34,
   "metadata": {},
   "outputs": [],
   "source": [
    "import statsmodels.api as sm"
   ]
  },
  {
   "cell_type": "code",
   "execution_count": 35,
   "metadata": {},
   "outputs": [],
   "source": [
    "# Add a constant to the features\n",
    "linear_features = sm.add_constant(features)"
   ]
  },
  {
   "cell_type": "code",
   "execution_count": 36,
   "metadata": {},
   "outputs": [
    {
     "name": "stdout",
     "output_type": "stream",
     "text": [
      "(295, 10) (250, 10) (45, 10)\n"
     ]
    }
   ],
   "source": [
    "# Create a size for the training set that is 85% of the total number of samples\n",
    "train_size = int(0.85 *targets.shape[0])\n",
    "train_features = linear_features[:train_size]\n",
    "train_targets = targets[:train_size]\n",
    "test_features = linear_features[train_size:]\n",
    "test_targets = targets[train_size:]\n",
    "print(linear_features.shape, train_features.shape, test_features.shape)"
   ]
  },
  {
   "cell_type": "code",
   "execution_count": 37,
   "metadata": {},
   "outputs": [
    {
     "name": "stdout",
     "output_type": "stream",
     "text": [
      "                             OLS Regression Results                            \n",
      "===============================================================================\n",
      "Dep. Variable:     5d_close_future_pct   R-squared:                       0.273\n",
      "Model:                             OLS   Adj. R-squared:                  0.246\n",
      "Method:                  Least Squares   F-statistic:                     10.01\n",
      "Date:                 Fri, 29 May 2020   Prob (F-statistic):           4.92e-13\n",
      "Time:                         10:57:38   Log-Likelihood:                 536.49\n",
      "No. Observations:                  250   AIC:                            -1053.\n",
      "Df Residuals:                      240   BIC:                            -1018.\n",
      "Df Model:                            9                                         \n",
      "Covariance Type:             nonrobust                                         \n",
      "================================================================================\n",
      "                   coef    std err          t      P>|t|      [0.025      0.975]\n",
      "--------------------------------------------------------------------------------\n",
      "const            6.8197      1.169      5.832      0.000       4.516       9.123\n",
      "5d_close_pct    -0.0944      0.114     -0.830      0.408      -0.319       0.130\n",
      "ma14             0.3473      0.230      1.512      0.132      -0.105       0.800\n",
      "rsi14            0.0261      0.004      6.520      0.000       0.018       0.034\n",
      "ma30             0.2200      0.206      1.067      0.287      -0.186       0.626\n",
      "rsi30           -0.1789      0.025     -7.111      0.000      -0.228      -0.129\n",
      "ma50            -2.0856      0.374     -5.578      0.000      -2.822      -1.349\n",
      "rsi50            0.2410      0.032      7.458      0.000       0.177       0.305\n",
      "ma200            0.5639      0.220      2.567      0.011       0.131       0.997\n",
      "rsi200          -0.1999      0.029     -6.999      0.000      -0.256      -0.144\n",
      "==============================================================================\n",
      "Omnibus:                        3.594   Durbin-Watson:                   0.560\n",
      "Prob(Omnibus):                  0.166   Jarque-Bera (JB):                2.482\n",
      "Skew:                          -0.038   Prob(JB):                        0.289\n",
      "Kurtosis:                       2.518   Cond. No.                     6.92e+04\n",
      "==============================================================================\n",
      "\n",
      "Warnings:\n",
      "[1] Standard Errors assume that the covariance matrix of the errors is correctly specified.\n",
      "[2] The condition number is large, 6.92e+04. This might indicate that there are\n",
      "strong multicollinearity or other numerical problems.\n"
     ]
    }
   ],
   "source": [
    "# Create the linear model and complete the least squares fit\n",
    "model = sm.OLS(train_targets, train_features)\n",
    "results = model.fit()  # fit the model\n",
    "print(results.summary())"
   ]
  },
  {
   "cell_type": "code",
   "execution_count": 38,
   "metadata": {},
   "outputs": [
    {
     "name": "stdout",
     "output_type": "stream",
     "text": [
      "const           1.764767e-08\n",
      "5d_close_pct    4.075985e-01\n",
      "ma14            1.317652e-01\n",
      "rsi14           4.119023e-10\n",
      "ma30            2.870964e-01\n",
      "rsi30           1.315491e-11\n",
      "ma50            6.542888e-08\n",
      "rsi50           1.598367e-12\n",
      "ma200           1.087610e-02\n",
      "rsi200          2.559536e-11\n",
      "dtype: float64\n"
     ]
    }
   ],
   "source": [
    "# examine pvalues\n",
    "# Features with p <= 0.05 are typically considered significantly different from 0\n",
    "print(results.pvalues)"
   ]
  },
  {
   "cell_type": "code",
   "execution_count": 39,
   "metadata": {},
   "outputs": [],
   "source": [
    "# Make predictions from our model for train and test sets\n",
    "train_predictions = results.predict(train_features)\n",
    "test_predictions = results.predict(test_features)"
   ]
  },
  {
   "cell_type": "code",
   "execution_count": 40,
   "metadata": {},
   "outputs": [
    {
     "data": {
      "image/png": "[encoded data removed]",
      "text/plain": [
       "<Figure size 432x288 with 1 Axes>"
      ]
     },
     "metadata": {
      "needs_background": "light"
     },
     "output_type": "display_data"
    }
   ],
   "source": [
    "# Scatter the predictions vs the targets with 80% transparency\n",
    "plt.scatter(train_predictions, train_targets, alpha=0.2, color='b', label='train')\n",
    "plt.scatter(test_predictions, test_targets, alpha=0.2, color='r', label='test')\n",
    "\n",
    "# Plot the perfect prediction line\n",
    "xmin, xmax = plt.xlim()\n",
    "plt.plot(np.arange(xmin, xmax, 0.01), np.arange(xmin, xmax, 0.01), c='k')\n",
    "\n",
    "# Set the axis labels and show the plot\n",
    "plt.xlabel('predictions')\n",
    "plt.ylabel('actual')\n",
    "plt.legend()  # show the legend\n",
    "plt.show()\n"
   ]
  },
  {
   "cell_type": "code",
   "execution_count": 41,
   "metadata": {},
   "outputs": [
    {
     "name": "stderr",
     "output_type": "stream",
     "text": [
      "/home/jupyterlab/conda/envs/python/lib/python3.6/site-packages/ipykernel_launcher.py:4: SettingWithCopyWarning: \n",
      "A value is trying to be set on a copy of a slice from a DataFrame.\n",
      "Try using .loc[row_indexer,col_indexer] = value instead\n",
      "\n",
      "See the caveats in the documentation: https://pandas.pydata.org/pandas-docs/stable/user_guide/indexing.html#returning-a-view-versus-a-copy\n",
      "  after removing the cwd from sys.path.\n",
      "/home/jupyterlab/conda/envs/python/lib/python3.6/site-packages/ipykernel_launcher.py:6: SettingWithCopyWarning: \n",
      "A value is trying to be set on a copy of a slice from a DataFrame.\n",
      "Try using .loc[row_indexer,col_indexer] = value instead\n",
      "\n",
      "See the caveats in the documentation: https://pandas.pydata.org/pandas-docs/stable/user_guide/indexing.html#returning-a-view-versus-a-copy\n",
      "  \n"
     ]
    }
   ],
   "source": [
    "# Create 2 new volume features, 1-day % change and 5-day SMA of the % change\n",
    "new_features = ['Adj_Volume_1d_change', 'Adj_Volume_1d_change_SMA']\n",
    "feature_names.extend(new_features)\n",
    "lng_df['Adj_Volume_1d_change'] = lng_df['Adj_Volume'].pct_change()\n",
    "lng_df['Adj_Volume_1d_change_SMA'] = talib.SMA(lng_df['Adj_Volume_1d_change'].values,\n",
    "                        timeperiod=5)"
   ]
  },
  {
   "cell_type": "code",
   "execution_count": 42,
   "metadata": {},
   "outputs": [
    {
     "data": {
      "image/png": "[encoded data removed]",
      "text/plain": [
       "<Figure size 432x288 with 1 Axes>"
      ]
     },
     "metadata": {
      "needs_background": "light"
     },
     "output_type": "display_data"
    }
   ],
   "source": [
    "# Plot histogram of volume % change data\n",
    "lng_df[new_features].plot(kind='hist', sharex=False, bins=50)\n",
    "plt.show()"
   ]
  },
  {
   "cell_type": "code",
   "execution_count": 43,
   "metadata": {},
   "outputs": [
    {
     "data": {
      "text/html": [
       "<div>\n",
       "<style scoped>\n",
       "    .dataframe tbody tr th:only-of-type {\n",
       "        vertical-align: middle;\n",
       "    }\n",
       "\n",
       "    .dataframe tbody tr th {\n",
       "        vertical-align: top;\n",
       "    }\n",
       "\n",
       "    .dataframe thead th {\n",
       "        text-align: right;\n",
       "    }\n",
       "</style>\n",
       "<table border=\"1\" class=\"dataframe\">\n",
       "  <thead>\n",
       "    <tr style=\"text-align: right;\">\n",
       "      <th></th>\n",
       "      <th>Adj_Close</th>\n",
       "      <th>Adj_Volume</th>\n",
       "      <th>5d_future_close</th>\n",
       "      <th>5d_close_future_pct</th>\n",
       "      <th>5d_close_pct</th>\n",
       "      <th>ma14</th>\n",
       "      <th>rsi14</th>\n",
       "      <th>ma30</th>\n",
       "      <th>rsi30</th>\n",
       "      <th>ma50</th>\n",
       "      <th>rsi50</th>\n",
       "      <th>ma200</th>\n",
       "      <th>rsi200</th>\n",
       "      <th>Adj_Volume_1d_change</th>\n",
       "      <th>Adj_Volume_1d_change_SMA</th>\n",
       "    </tr>\n",
       "    <tr>\n",
       "      <th>Date</th>\n",
       "      <th></th>\n",
       "      <th></th>\n",
       "      <th></th>\n",
       "      <th></th>\n",
       "      <th></th>\n",
       "      <th></th>\n",
       "      <th></th>\n",
       "      <th></th>\n",
       "      <th></th>\n",
       "      <th></th>\n",
       "      <th></th>\n",
       "      <th></th>\n",
       "      <th></th>\n",
       "      <th></th>\n",
       "      <th></th>\n",
       "    </tr>\n",
       "  </thead>\n",
       "  <tbody>\n",
       "    <tr>\n",
       "      <th>2017-01-31</th>\n",
       "      <td>47.65</td>\n",
       "      <td>2137394.0</td>\n",
       "      <td>47.81</td>\n",
       "      <td>0.003358</td>\n",
       "      <td>0.043812</td>\n",
       "      <td>0.950697</td>\n",
       "      <td>62.968946</td>\n",
       "      <td>0.918657</td>\n",
       "      <td>60.655749</td>\n",
       "      <td>0.895731</td>\n",
       "      <td>57.951677</td>\n",
       "      <td>0.839267</td>\n",
       "      <td>53.695377</td>\n",
       "      <td>NaN</td>\n",
       "      <td>NaN</td>\n",
       "    </tr>\n",
       "    <tr>\n",
       "      <th>2017-02-01</th>\n",
       "      <td>47.10</td>\n",
       "      <td>2051631.0</td>\n",
       "      <td>48.01</td>\n",
       "      <td>0.019321</td>\n",
       "      <td>-0.023429</td>\n",
       "      <td>0.967486</td>\n",
       "      <td>60.156019</td>\n",
       "      <td>0.932427</td>\n",
       "      <td>59.159791</td>\n",
       "      <td>0.910110</td>\n",
       "      <td>57.041713</td>\n",
       "      <td>0.850150</td>\n",
       "      <td>53.487663</td>\n",
       "      <td>-0.040125</td>\n",
       "      <td>NaN</td>\n",
       "    </tr>\n",
       "    <tr>\n",
       "      <th>2017-02-02</th>\n",
       "      <td>49.33</td>\n",
       "      <td>3081369.0</td>\n",
       "      <td>49.19</td>\n",
       "      <td>-0.002838</td>\n",
       "      <td>-0.021618</td>\n",
       "      <td>0.932220</td>\n",
       "      <td>66.659314</td>\n",
       "      <td>0.895486</td>\n",
       "      <td>62.988478</td>\n",
       "      <td>0.873379</td>\n",
       "      <td>59.662227</td>\n",
       "      <td>0.812956</td>\n",
       "      <td>54.209475</td>\n",
       "      <td>0.501912</td>\n",
       "      <td>NaN</td>\n",
       "    </tr>\n",
       "    <tr>\n",
       "      <th>2017-02-03</th>\n",
       "      <td>49.43</td>\n",
       "      <td>4158130.0</td>\n",
       "      <td>48.93</td>\n",
       "      <td>-0.010115</td>\n",
       "      <td>0.007336</td>\n",
       "      <td>0.938976</td>\n",
       "      <td>66.920059</td>\n",
       "      <td>0.899461</td>\n",
       "      <td>63.148741</td>\n",
       "      <td>0.875497</td>\n",
       "      <td>59.774509</td>\n",
       "      <td>0.812490</td>\n",
       "      <td>54.241479</td>\n",
       "      <td>0.349442</td>\n",
       "      <td>NaN</td>\n",
       "    </tr>\n",
       "    <tr>\n",
       "      <th>2017-02-06</th>\n",
       "      <td>48.50</td>\n",
       "      <td>2090909.0</td>\n",
       "      <td>48.14</td>\n",
       "      <td>-0.007423</td>\n",
       "      <td>0.022129</td>\n",
       "      <td>0.964080</td>\n",
       "      <td>62.059184</td>\n",
       "      <td>0.921608</td>\n",
       "      <td>60.623276</td>\n",
       "      <td>0.895860</td>\n",
       "      <td>58.236185</td>\n",
       "      <td>0.829234</td>\n",
       "      <td>53.889442</td>\n",
       "      <td>-0.497152</td>\n",
       "      <td>NaN</td>\n",
       "    </tr>\n",
       "    <tr>\n",
       "      <th>...</th>\n",
       "      <td>...</td>\n",
       "      <td>...</td>\n",
       "      <td>...</td>\n",
       "      <td>...</td>\n",
       "      <td>...</td>\n",
       "      <td>...</td>\n",
       "      <td>...</td>\n",
       "      <td>...</td>\n",
       "      <td>...</td>\n",
       "      <td>...</td>\n",
       "      <td>...</td>\n",
       "      <td>...</td>\n",
       "      <td>...</td>\n",
       "      <td>...</td>\n",
       "      <td>...</td>\n",
       "    </tr>\n",
       "    <tr>\n",
       "      <th>2018-03-27</th>\n",
       "      <td>53.06</td>\n",
       "      <td>1907271.0</td>\n",
       "      <td>54.30</td>\n",
       "      <td>0.023370</td>\n",
       "      <td>0.001510</td>\n",
       "      <td>1.004725</td>\n",
       "      <td>46.112898</td>\n",
       "      <td>1.026354</td>\n",
       "      <td>48.423080</td>\n",
       "      <td>1.041368</td>\n",
       "      <td>50.601497</td>\n",
       "      <td>0.922859</td>\n",
       "      <td>52.446487</td>\n",
       "      <td>-0.048011</td>\n",
       "      <td>0.145910</td>\n",
       "    </tr>\n",
       "    <tr>\n",
       "      <th>2018-03-28</th>\n",
       "      <td>52.30</td>\n",
       "      <td>1272452.0</td>\n",
       "      <td>56.21</td>\n",
       "      <td>0.074761</td>\n",
       "      <td>-0.033986</td>\n",
       "      <td>1.017058</td>\n",
       "      <td>42.796606</td>\n",
       "      <td>1.038018</td>\n",
       "      <td>46.788195</td>\n",
       "      <td>1.055159</td>\n",
       "      <td>49.525314</td>\n",
       "      <td>0.936544</td>\n",
       "      <td>52.142361</td>\n",
       "      <td>-0.332842</td>\n",
       "      <td>-0.071550</td>\n",
       "    </tr>\n",
       "    <tr>\n",
       "      <th>2018-03-29</th>\n",
       "      <td>53.45</td>\n",
       "      <td>2756953.0</td>\n",
       "      <td>54.36</td>\n",
       "      <td>0.017025</td>\n",
       "      <td>0.027489</td>\n",
       "      <td>0.994387</td>\n",
       "      <td>48.797185</td>\n",
       "      <td>1.012735</td>\n",
       "      <td>49.459257</td>\n",
       "      <td>1.031622</td>\n",
       "      <td>51.130119</td>\n",
       "      <td>0.916875</td>\n",
       "      <td>52.560707</td>\n",
       "      <td>1.166646</td>\n",
       "      <td>0.180670</td>\n",
       "    </tr>\n",
       "    <tr>\n",
       "      <th>2018-04-02</th>\n",
       "      <td>52.99</td>\n",
       "      <td>2298339.0</td>\n",
       "      <td>54.10</td>\n",
       "      <td>0.020947</td>\n",
       "      <td>0.018843</td>\n",
       "      <td>1.002157</td>\n",
       "      <td>46.687504</td>\n",
       "      <td>1.018431</td>\n",
       "      <td>48.452838</td>\n",
       "      <td>1.039702</td>\n",
       "      <td>50.475091</td>\n",
       "      <td>0.925404</td>\n",
       "      <td>52.376647</td>\n",
       "      <td>-0.166348</td>\n",
       "      <td>0.204458</td>\n",
       "    </tr>\n",
       "    <tr>\n",
       "      <th>2018-04-03</th>\n",
       "      <td>53.98</td>\n",
       "      <td>2230559.0</td>\n",
       "      <td>55.63</td>\n",
       "      <td>0.030567</td>\n",
       "      <td>0.028190</td>\n",
       "      <td>0.983883</td>\n",
       "      <td>51.543070</td>\n",
       "      <td>0.997493</td>\n",
       "      <td>50.686893</td>\n",
       "      <td>1.020085</td>\n",
       "      <td>51.830305</td>\n",
       "      <td>0.909116</td>\n",
       "      <td>52.734657</td>\n",
       "      <td>-0.029491</td>\n",
       "      <td>0.117991</td>\n",
       "    </tr>\n",
       "  </tbody>\n",
       "</table>\n",
       "<p>295 rows × 15 columns</p>\n",
       "</div>"
      ],
      "text/plain": [
       "            Adj_Close  Adj_Volume  5d_future_close  5d_close_future_pct  \\\n",
       "Date                                                                      \n",
       "2017-01-31      47.65   2137394.0            47.81             0.003358   \n",
       "2017-02-01      47.10   2051631.0            48.01             0.019321   \n",
       "2017-02-02      49.33   3081369.0            49.19            -0.002838   \n",
       "2017-02-03      49.43   4158130.0            48.93            -0.010115   \n",
       "2017-02-06      48.50   2090909.0            48.14            -0.007423   \n",
       "...               ...         ...              ...                  ...   \n",
       "2018-03-27      53.06   1907271.0            54.30             0.023370   \n",
       "2018-03-28      52.30   1272452.0            56.21             0.074761   \n",
       "2018-03-29      53.45   2756953.0            54.36             0.017025   \n",
       "2018-04-02      52.99   2298339.0            54.10             0.020947   \n",
       "2018-04-03      53.98   2230559.0            55.63             0.030567   \n",
       "\n",
       "            5d_close_pct      ma14      rsi14      ma30      rsi30      ma50  \\\n",
       "Date                                                                           \n",
       "2017-01-31      0.043812  0.950697  62.968946  0.918657  60.655749  0.895731   \n",
       "2017-02-01     -0.023429  0.967486  60.156019  0.932427  59.159791  0.910110   \n",
       "2017-02-02     -0.021618  0.932220  66.659314  0.895486  62.988478  0.873379   \n",
       "2017-02-03      0.007336  0.938976  66.920059  0.899461  63.148741  0.875497   \n",
       "2017-02-06      0.022129  0.964080  62.059184  0.921608  60.623276  0.895860   \n",
       "...                  ...       ...        ...       ...        ...       ...   \n",
       "2018-03-27      0.001510  1.004725  46.112898  1.026354  48.423080  1.041368   \n",
       "2018-03-28     -0.033986  1.017058  42.796606  1.038018  46.788195  1.055159   \n",
       "2018-03-29      0.027489  0.994387  48.797185  1.012735  49.459257  1.031622   \n",
       "2018-04-02      0.018843  1.002157  46.687504  1.018431  48.452838  1.039702   \n",
       "2018-04-03      0.028190  0.983883  51.543070  0.997493  50.686893  1.020085   \n",
       "\n",
       "                rsi50     ma200     rsi200  Adj_Volume_1d_change  \\\n",
       "Date                                                               \n",
       "2017-01-31  57.951677  0.839267  53.695377                   NaN   \n",
       "2017-02-01  57.041713  0.850150  53.487663             -0.040125   \n",
       "2017-02-02  59.662227  0.812956  54.209475              0.501912   \n",
       "2017-02-03  59.774509  0.812490  54.241479              0.349442   \n",
       "2017-02-06  58.236185  0.829234  53.889442             -0.497152   \n",
       "...               ...       ...        ...                   ...   \n",
       "2018-03-27  50.601497  0.922859  52.446487             -0.048011   \n",
       "2018-03-28  49.525314  0.936544  52.142361             -0.332842   \n",
       "2018-03-29  51.130119  0.916875  52.560707              1.166646   \n",
       "2018-04-02  50.475091  0.925404  52.376647             -0.166348   \n",
       "2018-04-03  51.830305  0.909116  52.734657             -0.029491   \n",
       "\n",
       "            Adj_Volume_1d_change_SMA  \n",
       "Date                                  \n",
       "2017-01-31                       NaN  \n",
       "2017-02-01                       NaN  \n",
       "2017-02-02                       NaN  \n",
       "2017-02-03                       NaN  \n",
       "2017-02-06                       NaN  \n",
       "...                              ...  \n",
       "2018-03-27                  0.145910  \n",
       "2018-03-28                 -0.071550  \n",
       "2018-03-29                  0.180670  \n",
       "2018-04-02                  0.204458  \n",
       "2018-04-03                  0.117991  \n",
       "\n",
       "[295 rows x 15 columns]"
      ]
     },
     "execution_count": 43,
     "metadata": {},
     "output_type": "execute_result"
    }
   ],
   "source": [
    "lng_df"
   ]
  },
  {
   "cell_type": "code",
   "execution_count": 44,
   "metadata": {},
   "outputs": [],
   "source": [
    "lng_df.index = pd.to_datetime(lng_df.index)"
   ]
  },
  {
   "cell_type": "code",
   "execution_count": 45,
   "metadata": {},
   "outputs": [
    {
     "data": {
      "text/html": [
       "<div>\n",
       "<style scoped>\n",
       "    .dataframe tbody tr th:only-of-type {\n",
       "        vertical-align: middle;\n",
       "    }\n",
       "\n",
       "    .dataframe tbody tr th {\n",
       "        vertical-align: top;\n",
       "    }\n",
       "\n",
       "    .dataframe thead th {\n",
       "        text-align: right;\n",
       "    }\n",
       "</style>\n",
       "<table border=\"1\" class=\"dataframe\">\n",
       "  <thead>\n",
       "    <tr style=\"text-align: right;\">\n",
       "      <th></th>\n",
       "      <th>Adj_Close</th>\n",
       "      <th>Adj_Volume</th>\n",
       "      <th>5d_future_close</th>\n",
       "      <th>5d_close_future_pct</th>\n",
       "      <th>5d_close_pct</th>\n",
       "      <th>ma14</th>\n",
       "      <th>rsi14</th>\n",
       "      <th>ma30</th>\n",
       "      <th>rsi30</th>\n",
       "      <th>ma50</th>\n",
       "      <th>rsi50</th>\n",
       "      <th>ma200</th>\n",
       "      <th>rsi200</th>\n",
       "      <th>Adj_Volume_1d_change</th>\n",
       "      <th>Adj_Volume_1d_change_SMA</th>\n",
       "    </tr>\n",
       "    <tr>\n",
       "      <th>Date</th>\n",
       "      <th></th>\n",
       "      <th></th>\n",
       "      <th></th>\n",
       "      <th></th>\n",
       "      <th></th>\n",
       "      <th></th>\n",
       "      <th></th>\n",
       "      <th></th>\n",
       "      <th></th>\n",
       "      <th></th>\n",
       "      <th></th>\n",
       "      <th></th>\n",
       "      <th></th>\n",
       "      <th></th>\n",
       "      <th></th>\n",
       "    </tr>\n",
       "  </thead>\n",
       "  <tbody>\n",
       "    <tr>\n",
       "      <th>2017-01-31</th>\n",
       "      <td>47.65</td>\n",
       "      <td>2137394.0</td>\n",
       "      <td>47.81</td>\n",
       "      <td>0.003358</td>\n",
       "      <td>0.043812</td>\n",
       "      <td>0.950697</td>\n",
       "      <td>62.968946</td>\n",
       "      <td>0.918657</td>\n",
       "      <td>60.655749</td>\n",
       "      <td>0.895731</td>\n",
       "      <td>57.951677</td>\n",
       "      <td>0.839267</td>\n",
       "      <td>53.695377</td>\n",
       "      <td>NaN</td>\n",
       "      <td>NaN</td>\n",
       "    </tr>\n",
       "    <tr>\n",
       "      <th>2017-02-01</th>\n",
       "      <td>47.10</td>\n",
       "      <td>2051631.0</td>\n",
       "      <td>48.01</td>\n",
       "      <td>0.019321</td>\n",
       "      <td>-0.023429</td>\n",
       "      <td>0.967486</td>\n",
       "      <td>60.156019</td>\n",
       "      <td>0.932427</td>\n",
       "      <td>59.159791</td>\n",
       "      <td>0.910110</td>\n",
       "      <td>57.041713</td>\n",
       "      <td>0.850150</td>\n",
       "      <td>53.487663</td>\n",
       "      <td>-0.040125</td>\n",
       "      <td>NaN</td>\n",
       "    </tr>\n",
       "    <tr>\n",
       "      <th>2017-02-02</th>\n",
       "      <td>49.33</td>\n",
       "      <td>3081369.0</td>\n",
       "      <td>49.19</td>\n",
       "      <td>-0.002838</td>\n",
       "      <td>-0.021618</td>\n",
       "      <td>0.932220</td>\n",
       "      <td>66.659314</td>\n",
       "      <td>0.895486</td>\n",
       "      <td>62.988478</td>\n",
       "      <td>0.873379</td>\n",
       "      <td>59.662227</td>\n",
       "      <td>0.812956</td>\n",
       "      <td>54.209475</td>\n",
       "      <td>0.501912</td>\n",
       "      <td>NaN</td>\n",
       "    </tr>\n",
       "    <tr>\n",
       "      <th>2017-02-03</th>\n",
       "      <td>49.43</td>\n",
       "      <td>4158130.0</td>\n",
       "      <td>48.93</td>\n",
       "      <td>-0.010115</td>\n",
       "      <td>0.007336</td>\n",
       "      <td>0.938976</td>\n",
       "      <td>66.920059</td>\n",
       "      <td>0.899461</td>\n",
       "      <td>63.148741</td>\n",
       "      <td>0.875497</td>\n",
       "      <td>59.774509</td>\n",
       "      <td>0.812490</td>\n",
       "      <td>54.241479</td>\n",
       "      <td>0.349442</td>\n",
       "      <td>NaN</td>\n",
       "    </tr>\n",
       "    <tr>\n",
       "      <th>2017-02-06</th>\n",
       "      <td>48.50</td>\n",
       "      <td>2090909.0</td>\n",
       "      <td>48.14</td>\n",
       "      <td>-0.007423</td>\n",
       "      <td>0.022129</td>\n",
       "      <td>0.964080</td>\n",
       "      <td>62.059184</td>\n",
       "      <td>0.921608</td>\n",
       "      <td>60.623276</td>\n",
       "      <td>0.895860</td>\n",
       "      <td>58.236185</td>\n",
       "      <td>0.829234</td>\n",
       "      <td>53.889442</td>\n",
       "      <td>-0.497152</td>\n",
       "      <td>NaN</td>\n",
       "    </tr>\n",
       "    <tr>\n",
       "      <th>...</th>\n",
       "      <td>...</td>\n",
       "      <td>...</td>\n",
       "      <td>...</td>\n",
       "      <td>...</td>\n",
       "      <td>...</td>\n",
       "      <td>...</td>\n",
       "      <td>...</td>\n",
       "      <td>...</td>\n",
       "      <td>...</td>\n",
       "      <td>...</td>\n",
       "      <td>...</td>\n",
       "      <td>...</td>\n",
       "      <td>...</td>\n",
       "      <td>...</td>\n",
       "      <td>...</td>\n",
       "    </tr>\n",
       "    <tr>\n",
       "      <th>2018-03-27</th>\n",
       "      <td>53.06</td>\n",
       "      <td>1907271.0</td>\n",
       "      <td>54.30</td>\n",
       "      <td>0.023370</td>\n",
       "      <td>0.001510</td>\n",
       "      <td>1.004725</td>\n",
       "      <td>46.112898</td>\n",
       "      <td>1.026354</td>\n",
       "      <td>48.423080</td>\n",
       "      <td>1.041368</td>\n",
       "      <td>50.601497</td>\n",
       "      <td>0.922859</td>\n",
       "      <td>52.446487</td>\n",
       "      <td>-0.048011</td>\n",
       "      <td>0.145910</td>\n",
       "    </tr>\n",
       "    <tr>\n",
       "      <th>2018-03-28</th>\n",
       "      <td>52.30</td>\n",
       "      <td>1272452.0</td>\n",
       "      <td>56.21</td>\n",
       "      <td>0.074761</td>\n",
       "      <td>-0.033986</td>\n",
       "      <td>1.017058</td>\n",
       "      <td>42.796606</td>\n",
       "      <td>1.038018</td>\n",
       "      <td>46.788195</td>\n",
       "      <td>1.055159</td>\n",
       "      <td>49.525314</td>\n",
       "      <td>0.936544</td>\n",
       "      <td>52.142361</td>\n",
       "      <td>-0.332842</td>\n",
       "      <td>-0.071550</td>\n",
       "    </tr>\n",
       "    <tr>\n",
       "      <th>2018-03-29</th>\n",
       "      <td>53.45</td>\n",
       "      <td>2756953.0</td>\n",
       "      <td>54.36</td>\n",
       "      <td>0.017025</td>\n",
       "      <td>0.027489</td>\n",
       "      <td>0.994387</td>\n",
       "      <td>48.797185</td>\n",
       "      <td>1.012735</td>\n",
       "      <td>49.459257</td>\n",
       "      <td>1.031622</td>\n",
       "      <td>51.130119</td>\n",
       "      <td>0.916875</td>\n",
       "      <td>52.560707</td>\n",
       "      <td>1.166646</td>\n",
       "      <td>0.180670</td>\n",
       "    </tr>\n",
       "    <tr>\n",
       "      <th>2018-04-02</th>\n",
       "      <td>52.99</td>\n",
       "      <td>2298339.0</td>\n",
       "      <td>54.10</td>\n",
       "      <td>0.020947</td>\n",
       "      <td>0.018843</td>\n",
       "      <td>1.002157</td>\n",
       "      <td>46.687504</td>\n",
       "      <td>1.018431</td>\n",
       "      <td>48.452838</td>\n",
       "      <td>1.039702</td>\n",
       "      <td>50.475091</td>\n",
       "      <td>0.925404</td>\n",
       "      <td>52.376647</td>\n",
       "      <td>-0.166348</td>\n",
       "      <td>0.204458</td>\n",
       "    </tr>\n",
       "    <tr>\n",
       "      <th>2018-04-03</th>\n",
       "      <td>53.98</td>\n",
       "      <td>2230559.0</td>\n",
       "      <td>55.63</td>\n",
       "      <td>0.030567</td>\n",
       "      <td>0.028190</td>\n",
       "      <td>0.983883</td>\n",
       "      <td>51.543070</td>\n",
       "      <td>0.997493</td>\n",
       "      <td>50.686893</td>\n",
       "      <td>1.020085</td>\n",
       "      <td>51.830305</td>\n",
       "      <td>0.909116</td>\n",
       "      <td>52.734657</td>\n",
       "      <td>-0.029491</td>\n",
       "      <td>0.117991</td>\n",
       "    </tr>\n",
       "  </tbody>\n",
       "</table>\n",
       "<p>295 rows × 15 columns</p>\n",
       "</div>"
      ],
      "text/plain": [
       "            Adj_Close  Adj_Volume  5d_future_close  5d_close_future_pct  \\\n",
       "Date                                                                      \n",
       "2017-01-31      47.65   2137394.0            47.81             0.003358   \n",
       "2017-02-01      47.10   2051631.0            48.01             0.019321   \n",
       "2017-02-02      49.33   3081369.0            49.19            -0.002838   \n",
       "2017-02-03      49.43   4158130.0            48.93            -0.010115   \n",
       "2017-02-06      48.50   2090909.0            48.14            -0.007423   \n",
       "...               ...         ...              ...                  ...   \n",
       "2018-03-27      53.06   1907271.0            54.30             0.023370   \n",
       "2018-03-28      52.30   1272452.0            56.21             0.074761   \n",
       "2018-03-29      53.45   2756953.0            54.36             0.017025   \n",
       "2018-04-02      52.99   2298339.0            54.10             0.020947   \n",
       "2018-04-03      53.98   2230559.0            55.63             0.030567   \n",
       "\n",
       "            5d_close_pct      ma14      rsi14      ma30      rsi30      ma50  \\\n",
       "Date                                                                           \n",
       "2017-01-31      0.043812  0.950697  62.968946  0.918657  60.655749  0.895731   \n",
       "2017-02-01     -0.023429  0.967486  60.156019  0.932427  59.159791  0.910110   \n",
       "2017-02-02     -0.021618  0.932220  66.659314  0.895486  62.988478  0.873379   \n",
       "2017-02-03      0.007336  0.938976  66.920059  0.899461  63.148741  0.875497   \n",
       "2017-02-06      0.022129  0.964080  62.059184  0.921608  60.623276  0.895860   \n",
       "...                  ...       ...        ...       ...        ...       ...   \n",
       "2018-03-27      0.001510  1.004725  46.112898  1.026354  48.423080  1.041368   \n",
       "2018-03-28     -0.033986  1.017058  42.796606  1.038018  46.788195  1.055159   \n",
       "2018-03-29      0.027489  0.994387  48.797185  1.012735  49.459257  1.031622   \n",
       "2018-04-02      0.018843  1.002157  46.687504  1.018431  48.452838  1.039702   \n",
       "2018-04-03      0.028190  0.983883  51.543070  0.997493  50.686893  1.020085   \n",
       "\n",
       "                rsi50     ma200     rsi200  Adj_Volume_1d_change  \\\n",
       "Date                                                               \n",
       "2017-01-31  57.951677  0.839267  53.695377                   NaN   \n",
       "2017-02-01  57.041713  0.850150  53.487663             -0.040125   \n",
       "2017-02-02  59.662227  0.812956  54.209475              0.501912   \n",
       "2017-02-03  59.774509  0.812490  54.241479              0.349442   \n",
       "2017-02-06  58.236185  0.829234  53.889442             -0.497152   \n",
       "...               ...       ...        ...                   ...   \n",
       "2018-03-27  50.601497  0.922859  52.446487             -0.048011   \n",
       "2018-03-28  49.525314  0.936544  52.142361             -0.332842   \n",
       "2018-03-29  51.130119  0.916875  52.560707              1.166646   \n",
       "2018-04-02  50.475091  0.925404  52.376647             -0.166348   \n",
       "2018-04-03  51.830305  0.909116  52.734657             -0.029491   \n",
       "\n",
       "            Adj_Volume_1d_change_SMA  \n",
       "Date                                  \n",
       "2017-01-31                       NaN  \n",
       "2017-02-01                       NaN  \n",
       "2017-02-02                       NaN  \n",
       "2017-02-03                       NaN  \n",
       "2017-02-06                       NaN  \n",
       "...                              ...  \n",
       "2018-03-27                  0.145910  \n",
       "2018-03-28                 -0.071550  \n",
       "2018-03-29                  0.180670  \n",
       "2018-04-02                  0.204458  \n",
       "2018-04-03                  0.117991  \n",
       "\n",
       "[295 rows x 15 columns]"
      ]
     },
     "execution_count": 45,
     "metadata": {},
     "output_type": "execute_result"
    }
   ],
   "source": [
    "lng_df"
   ]
  },
  {
   "cell_type": "code",
   "execution_count": 46,
   "metadata": {},
   "outputs": [],
   "source": [
    "# Use pandas' get_dummies function to get dummies for day of the week\n",
    "days_of_week = pd.get_dummies(lng_df.index.dayofweek,\n",
    "                              prefix='weekday',\n",
    "                              drop_first=True)\n"
   ]
  },
  {
   "cell_type": "code",
   "execution_count": 47,
   "metadata": {},
   "outputs": [],
   "source": [
    "# Set the index as the original DataFrame index for merging\n",
    "days_of_week.index = lng_df.index"
   ]
  },
  {
   "cell_type": "code",
   "execution_count": 48,
   "metadata": {},
   "outputs": [],
   "source": [
    "# Join the dataframe with the days of week DataFrame\n",
    "lng_df = pd.concat([lng_df, days_of_week], axis=1)"
   ]
  },
  {
   "cell_type": "code",
   "execution_count": 49,
   "metadata": {},
   "outputs": [
    {
     "name": "stdout",
     "output_type": "stream",
     "text": [
      "            Adj_Close  Adj_Volume  5d_future_close  5d_close_future_pct  \\\n",
      "Date                                                                      \n",
      "2017-02-07      47.81   2522644.0            47.88             0.001464   \n",
      "2017-02-08      48.01   1521339.0            47.69            -0.006665   \n",
      "2017-02-09      49.19   1717838.0            46.84            -0.047774   \n",
      "2017-02-10      48.93   1747989.0            46.71            -0.045371   \n",
      "2017-02-13      48.14   2321977.0            47.36            -0.016203   \n",
      "\n",
      "            5d_close_pct      ma14      rsi14      ma30      rsi30      ma50  \\\n",
      "Date                                                                           \n",
      "2017-02-07      0.003358  0.985448  58.654992  0.939476  58.817869  0.911801   \n",
      "2017-02-08      0.019321  0.989333  59.351015  0.940047  59.182360  0.911289   \n",
      "2017-02-09     -0.002838  0.974211  63.278848  0.922383  61.274321  0.893214   \n",
      "2017-02-10     -0.010115  0.987957  61.860468  0.931821  60.566775  0.902031   \n",
      "2017-02-13     -0.007423  1.007864  57.633333  0.951371  58.445466  0.919859   \n",
      "\n",
      "                rsi50     ma200     rsi200  Adj_Volume_1d_change  \\\n",
      "Date                                                               \n",
      "2017-02-07  57.123212  0.842290  53.629901              0.206482   \n",
      "2017-02-08  57.364214  0.839954  53.694867             -0.396927   \n",
      "2017-02-09  58.759765  0.821018  54.076387              0.129162   \n",
      "2017-02-10  58.330493  0.826385  53.977901              0.017552   \n",
      "2017-02-13  57.038536  0.840935  53.679362              0.328370   \n",
      "\n",
      "            Adj_Volume_1d_change_SMA  weekday_1  weekday_2  weekday_3  \\\n",
      "Date                                                                    \n",
      "2017-02-07                  0.104112          1          0          0   \n",
      "2017-02-08                  0.032752          0          1          0   \n",
      "2017-02-09                 -0.041798          0          0          1   \n",
      "2017-02-10                 -0.108177          0          0          0   \n",
      "2017-02-13                  0.056928          0          0          0   \n",
      "\n",
      "            weekday_4  \n",
      "Date                   \n",
      "2017-02-07          0  \n",
      "2017-02-08          0  \n",
      "2017-02-09          0  \n",
      "2017-02-10          1  \n",
      "2017-02-13          0  \n"
     ]
    }
   ],
   "source": [
    "# Add days of week to feature names\n",
    "feature_names.extend(['weekday_' + str(i) for i in range(1, 5)])\n",
    "lng_df.dropna(inplace=True)  # drop missing values in-place\n",
    "print(lng_df.head())"
   ]
  },
  {
   "cell_type": "code",
   "execution_count": 50,
   "metadata": {},
   "outputs": [],
   "source": [
    "# Add the weekday labels to the new_features list\n",
    "new_features.extend(['weekday_' + str(i) for i in range(1, 5)])"
   ]
  },
  {
   "cell_type": "code",
   "execution_count": 51,
   "metadata": {},
   "outputs": [
    {
     "data": {
      "image/png": "[encoded data removed]",
      "text/plain": [
       "<Figure size 432x288 with 2 Axes>"
      ]
     },
     "metadata": {
      "needs_background": "light"
     },
     "output_type": "display_data"
    }
   ],
   "source": [
    "# Plot the correlations between the new features and the targets\n",
    "sns.heatmap(lng_df[new_features + ['5d_close_future_pct']].corr(), annot=True)\n",
    "plt.yticks(rotation=0)  # ensure y-axis ticklabels are horizontal\n",
    "plt.xticks(rotation=90)  # ensure x-axis ticklabels are vertical\n",
    "plt.tight_layout()\n",
    "plt.show()"
   ]
  },
  {
   "cell_type": "code",
   "execution_count": 52,
   "metadata": {},
   "outputs": [],
   "source": [
    "from sklearn.tree import DecisionTreeRegressor"
   ]
  },
  {
   "cell_type": "code",
   "execution_count": 53,
   "metadata": {},
   "outputs": [],
   "source": [
    "# Create a decision tree regression model with default arguments\n",
    "decision_tree = DecisionTreeRegressor()"
   ]
  },
  {
   "cell_type": "code",
   "execution_count": 54,
   "metadata": {},
   "outputs": [
    {
     "data": {
      "text/plain": [
       "DecisionTreeRegressor(criterion='mse', max_depth=None, max_features=None,\n",
       "           max_leaf_nodes=None, min_impurity_decrease=0.0,\n",
       "           min_impurity_split=None, min_samples_leaf=1,\n",
       "           min_samples_split=2, min_weight_fraction_leaf=0.0,\n",
       "           presort=False, random_state=None, splitter='best')"
      ]
     },
     "execution_count": 54,
     "metadata": {},
     "output_type": "execute_result"
    }
   ],
   "source": [
    "# Fit the model to the training features and targets\n",
    "decision_tree.fit(train_features, train_targets)"
   ]
  },
  {
   "cell_type": "code",
   "execution_count": 55,
   "metadata": {},
   "outputs": [
    {
     "name": "stdout",
     "output_type": "stream",
     "text": [
      "0.9999950331816782\n",
      "-1.3664747111384\n"
     ]
    }
   ],
   "source": [
    "# Check the score on train and test\n",
    "print(decision_tree.score(train_features, train_targets))\n",
    "print(decision_tree.score(test_features, test_targets))"
   ]
  },
  {
   "cell_type": "code",
   "execution_count": 56,
   "metadata": {},
   "outputs": [
    {
     "name": "stdout",
     "output_type": "stream",
     "text": [
      "max_depth= 3\n",
      "0.31221074754988065\n",
      "-0.34425820543875796 \n",
      "\n",
      "max_depth= 5\n",
      "0.5300236519892909\n",
      "-0.5614996393903104 \n",
      "\n",
      "max_depth= 10\n",
      "0.896998296863188\n",
      "-1.0536068119888093 \n",
      "\n"
     ]
    }
   ],
   "source": [
    "# Loop through a few different max depths and check the performance\n",
    "for d in [3,5,10]:\n",
    "    # Create the tree and fit it\n",
    "    decision_tree = DecisionTreeRegressor(max_depth=d)\n",
    "    decision_tree.fit(train_features, train_targets)\n",
    "    # Print out the scores on train and test\n",
    "    print('max_depth=', str(d))\n",
    "    print(decision_tree.score(train_features, train_targets))\n",
    "    print(decision_tree.score(test_features, test_targets), '\\n')"
   ]
  },
  {
   "cell_type": "code",
   "execution_count": 57,
   "metadata": {},
   "outputs": [
    {
     "data": {
      "text/plain": [
       "DecisionTreeRegressor(criterion='mse', max_depth=3, max_features=None,\n",
       "           max_leaf_nodes=None, min_impurity_decrease=0.0,\n",
       "           min_impurity_split=None, min_samples_leaf=1,\n",
       "           min_samples_split=2, min_weight_fraction_leaf=0.0,\n",
       "           presort=False, random_state=None, splitter='best')"
      ]
     },
     "execution_count": 57,
     "metadata": {},
     "output_type": "execute_result"
    }
   ],
   "source": [
    "# Use the best max_depth of 3 from last exercise to fit a decision tree\n",
    "decision_tree = DecisionTreeRegressor(max_depth=3)\n",
    "decision_tree.fit(train_features, train_targets)"
   ]
  },
  {
   "cell_type": "code",
   "execution_count": 58,
   "metadata": {},
   "outputs": [],
   "source": [
    "# Predict values for train and test\n",
    "train_predictions = decision_tree.predict(train_features)\n",
    "test_predictions = decision_tree.predict(test_features)"
   ]
  },
  {
   "cell_type": "code",
   "execution_count": 59,
   "metadata": {},
   "outputs": [
    {
     "data": {
      "image/png": "[encoded data removed]",
      "text/plain": [
       "<Figure size 432x288 with 1 Axes>"
      ]
     },
     "metadata": {
      "needs_background": "light"
     },
     "output_type": "display_data"
    }
   ],
   "source": [
    "# Scatter the predictions vs actual values\n",
    "plt.scatter(train_predictions, train_targets, label='train')\n",
    "plt.scatter(test_predictions, test_targets, label='test')\n",
    "plt.show()"
   ]
  },
  {
   "cell_type": "code",
   "execution_count": 60,
   "metadata": {},
   "outputs": [],
   "source": [
    "from sklearn.ensemble import RandomForestRegressor"
   ]
  },
  {
   "cell_type": "code",
   "execution_count": 61,
   "metadata": {},
   "outputs": [
    {
     "data": {
      "text/plain": [
       "RandomForestRegressor(bootstrap=True, criterion='mse', max_depth=None,\n",
       "           max_features='auto', max_leaf_nodes=None,\n",
       "           min_impurity_decrease=0.0, min_impurity_split=None,\n",
       "           min_samples_leaf=1, min_samples_split=2,\n",
       "           min_weight_fraction_leaf=0.0, n_estimators=200, n_jobs=None,\n",
       "           oob_score=False, random_state=None, verbose=0, warm_start=False)"
      ]
     },
     "execution_count": 61,
     "metadata": {},
     "output_type": "execute_result"
    }
   ],
   "source": [
    "# Create the random forest model and fit to the training data\n",
    "rfr = RandomForestRegressor(n_estimators=200)\n",
    "rfr.fit(train_features, train_targets)"
   ]
  },
  {
   "cell_type": "code",
   "execution_count": 62,
   "metadata": {},
   "outputs": [
    {
     "name": "stdout",
     "output_type": "stream",
     "text": [
      "0.9183128862483432\n",
      "-0.057735857412380076\n"
     ]
    }
   ],
   "source": [
    "# Look at the R^2 scores on train and test\n",
    "print(rfr.score(train_features, train_targets))\n",
    "print(rfr.score(test_features, test_targets))"
   ]
  },
  {
   "cell_type": "code",
   "execution_count": 63,
   "metadata": {},
   "outputs": [],
   "source": [
    "from sklearn.model_selection import ParameterGrid"
   ]
  },
  {
   "cell_type": "code",
   "execution_count": 64,
   "metadata": {},
   "outputs": [],
   "source": [
    "# Create a dictionary of hyperparameters to search\n",
    "grid = {'n_estimators':[200], 'max_depth': [3], 'max_features': [4,8], 'random_state': [42]}\n",
    "test_scores = []"
   ]
  },
  {
   "cell_type": "code",
   "execution_count": 65,
   "metadata": {},
   "outputs": [],
   "source": [
    "# Loop through the parameter grid, set the hyperparameters, and save the scores\n",
    "for g in ParameterGrid(grid):\n",
    "    rfr.set_params(**g)  # ** is \"unpacking\" the dictionary\n",
    "    rfr.fit(train_features, train_targets)\n",
    "    test_scores.append(rfr.score(test_features, test_targets))"
   ]
  },
  {
   "cell_type": "code",
   "execution_count": 66,
   "metadata": {},
   "outputs": [
    {
     "name": "stdout",
     "output_type": "stream",
     "text": [
      "0.03463037963408222 {'random_state': 42, 'n_estimators': 200, 'max_features': 4, 'max_depth': 3}\n"
     ]
    }
   ],
   "source": [
    "# Find best hyperparameters from the test score and print\n",
    "best_idx = np.argmax(test_scores)\n",
    "print(test_scores[best_idx], ParameterGrid(grid)[best_idx])"
   ]
  },
  {
   "cell_type": "code",
   "execution_count": 67,
   "metadata": {},
   "outputs": [
    {
     "data": {
      "text/plain": [
       "RandomForestRegressor(bootstrap=True, criterion='mse', max_depth=3,\n",
       "           max_features=4, max_leaf_nodes=None, min_impurity_decrease=0.0,\n",
       "           min_impurity_split=None, min_samples_leaf=1,\n",
       "           min_samples_split=2, min_weight_fraction_leaf=0.0,\n",
       "           n_estimators=200, n_jobs=None, oob_score=False, random_state=42,\n",
       "           verbose=0, warm_start=False)"
      ]
     },
     "execution_count": 67,
     "metadata": {},
     "output_type": "execute_result"
    }
   ],
   "source": [
    "# Use the best hyperparameters from before to fit a random forest model\n",
    "rfr = RandomForestRegressor(n_estimators=200, max_depth=3, max_features=4, random_state=42)\n",
    "rfr.fit(train_features, train_targets)"
   ]
  },
  {
   "cell_type": "code",
   "execution_count": 68,
   "metadata": {},
   "outputs": [],
   "source": [
    "# Make predictions with our model\n",
    "train_predictions = rfr.predict(train_features)\n",
    "test_predictions = rfr.predict(test_features)"
   ]
  },
  {
   "cell_type": "code",
   "execution_count": 69,
   "metadata": {},
   "outputs": [
    {
     "data": {
      "image/png": "[encoded data removed]",
      "text/plain": [
       "<Figure size 432x288 with 1 Axes>"
      ]
     },
     "metadata": {
      "needs_background": "light"
     },
     "output_type": "display_data"
    }
   ],
   "source": [
    "# Create a scatter plot with train and test actual vs predictions\n",
    "plt.scatter(train_targets, train_predictions, label='train')\n",
    "plt.scatter(test_targets, test_predictions, label='test')\n",
    "plt.legend()\n",
    "plt.show()"
   ]
  },
  {
   "cell_type": "code",
   "execution_count": 70,
   "metadata": {},
   "outputs": [],
   "source": [
    "# Get feature importances from our random forest model\n",
    "importances = rfr.feature_importances_"
   ]
  },
  {
   "cell_type": "code",
   "execution_count": 71,
   "metadata": {},
   "outputs": [],
   "source": [
    "# Get the index of importances from greatest importance to least\n",
    "sorted_index = np.argsort(importances)[::-1]\n",
    "x = range(len(importances))"
   ]
  },
  {
   "cell_type": "code",
   "execution_count": 72,
   "metadata": {},
   "outputs": [
    {
     "data": {
      "image/png": "[encoded data removed]",
      "text/plain": [
       "<Figure size 432x288 with 1 Axes>"
      ]
     },
     "metadata": {
      "needs_background": "light"
     },
     "output_type": "display_data"
    }
   ],
   "source": [
    "# Create tick labels \n",
    "labels = np.array(feature_names)[sorted_index]\n",
    "plt.bar(x, importances[sorted_index], tick_label=labels)\n",
    "# Rotate tick labels to vertical\n",
    "plt.xticks(rotation=90)\n",
    "plt.show()"
   ]
  },
  {
   "cell_type": "code",
   "execution_count": 73,
   "metadata": {},
   "outputs": [],
   "source": [
    "from sklearn.ensemble import GradientBoostingRegressor"
   ]
  },
  {
   "cell_type": "code",
   "execution_count": 74,
   "metadata": {},
   "outputs": [
    {
     "data": {
      "text/plain": [
       "GradientBoostingRegressor(alpha=0.9, criterion='friedman_mse', init=None,\n",
       "             learning_rate=0.01, loss='ls', max_depth=3, max_features=4,\n",
       "             max_leaf_nodes=None, min_impurity_decrease=0.0,\n",
       "             min_impurity_split=None, min_samples_leaf=1,\n",
       "             min_samples_split=2, min_weight_fraction_leaf=0.0,\n",
       "             n_estimators=200, n_iter_no_change=None, presort='auto',\n",
       "             random_state=42, subsample=0.6, tol=0.0001,\n",
       "             validation_fraction=0.1, verbose=0, warm_start=False)"
      ]
     },
     "execution_count": 74,
     "metadata": {},
     "output_type": "execute_result"
    }
   ],
   "source": [
    "# Create GB model -- hyperparameters have already been searched for you\n",
    "gbr = GradientBoostingRegressor(max_features=4,\n",
    "                                learning_rate=0.01,\n",
    "                                n_estimators=200,\n",
    "                                subsample=0.6,\n",
    "                                random_state=42)\n",
    "gbr.fit(train_features,train_targets)"
   ]
  },
  {
   "cell_type": "code",
   "execution_count": 75,
   "metadata": {},
   "outputs": [
    {
     "name": "stdout",
     "output_type": "stream",
     "text": [
      "0.4412629798604665\n",
      "0.009669282780346067\n"
     ]
    }
   ],
   "source": [
    "print(gbr.score(train_features, train_targets))\n",
    "print(gbr.score(test_features, test_targets))"
   ]
  },
  {
   "cell_type": "code",
   "execution_count": 76,
   "metadata": {},
   "outputs": [],
   "source": [
    "# Extract feature importances from the fitted gradient boosting model\n",
    "feature_importances = gbr.feature_importances_"
   ]
  },
  {
   "cell_type": "code",
   "execution_count": 77,
   "metadata": {},
   "outputs": [
    {
     "data": {
      "text/plain": [
       "array([0.        , 0.08660836, 0.09784382, 0.10204457, 0.0942192 ,\n",
       "       0.08197533, 0.11431695, 0.13708378, 0.13766228, 0.14824571])"
      ]
     },
     "execution_count": 77,
     "metadata": {},
     "output_type": "execute_result"
    }
   ],
   "source": [
    "feature_importances"
   ]
  },
  {
   "cell_type": "code",
   "execution_count": 78,
   "metadata": {},
   "outputs": [],
   "source": [
    "# Get the indices of the largest to smallest feature importances\n",
    "sorted_index = np.argsort(feature_importances)[:-1]\n",
    "x = range(features.shape[1])"
   ]
  },
  {
   "cell_type": "code",
   "execution_count": 79,
   "metadata": {},
   "outputs": [
    {
     "data": {
      "text/plain": [
       "(295, 9)"
      ]
     },
     "execution_count": 79,
     "metadata": {},
     "output_type": "execute_result"
    }
   ],
   "source": [
    "features.shape"
   ]
  },
  {
   "cell_type": "code",
   "execution_count": 80,
   "metadata": {},
   "outputs": [
    {
     "data": {
      "text/plain": [
       "array([0, 5, 1, 4, 2, 3, 6, 7, 8])"
      ]
     },
     "execution_count": 80,
     "metadata": {},
     "output_type": "execute_result"
    }
   ],
   "source": [
    "sorted_index"
   ]
  },
  {
   "cell_type": "code",
   "execution_count": 81,
   "metadata": {},
   "outputs": [],
   "source": [
    "# Create tick labels \n",
    "labels = np.array(feature_names)[sorted_index]"
   ]
  },
  {
   "cell_type": "code",
   "execution_count": 82,
   "metadata": {},
   "outputs": [
    {
     "data": {
      "text/plain": [
       "array(['5d_close_pct', 'ma50', 'ma14', 'rsi30', 'rsi14', 'ma30', 'rsi50',\n",
       "       'ma200', 'rsi200'], dtype='<U24')"
      ]
     },
     "execution_count": 82,
     "metadata": {},
     "output_type": "execute_result"
    }
   ],
   "source": [
    "labels"
   ]
  },
  {
   "cell_type": "code",
   "execution_count": 83,
   "metadata": {},
   "outputs": [
    {
     "data": {
      "text/plain": [
       "range(0, 9)"
      ]
     },
     "execution_count": 83,
     "metadata": {},
     "output_type": "execute_result"
    }
   ],
   "source": [
    "x"
   ]
  },
  {
   "cell_type": "code",
   "execution_count": 84,
   "metadata": {},
   "outputs": [
    {
     "data": {
      "image/png": "[encoded data removed]",
      "text/plain": [
       "<Figure size 432x288 with 1 Axes>"
      ]
     },
     "metadata": {
      "needs_background": "light"
     },
     "output_type": "display_data"
    }
   ],
   "source": [
    "plt.bar(x, feature_importances[sorted_index], tick_label=labels)\n",
    "# Set the tick lables to be the feature names, according to the sorted feature_idx\n",
    "plt.xticks(rotation=90)\n",
    "plt.show()"
   ]
  },
  {
   "cell_type": "markdown",
   "metadata": {},
   "source": [
    "# Chapter 3 - Neural networks and KNN"
   ]
  },
  {
   "cell_type": "markdown",
   "metadata": {},
   "source": [
    "## Standardizing data"
   ]
  },
  {
   "cell_type": "code",
   "execution_count": 85,
   "metadata": {},
   "outputs": [],
   "source": [
    "from sklearn.preprocessing import scale"
   ]
  },
  {
   "cell_type": "code",
   "execution_count": 86,
   "metadata": {},
   "outputs": [],
   "source": [
    "# Remove unimportant features (weekdays)\n",
    "train_features = train_features.iloc[:, :-4]\n",
    "test_features = test_features.iloc[:, :-4]\n"
   ]
  },
  {
   "cell_type": "code",
   "execution_count": 87,
   "metadata": {},
   "outputs": [],
   "source": [
    "# Standardize the train and test features\n",
    "scaled_train_features = scale(train_features)\n",
    "scaled_test_features = scale(test_features)"
   ]
  },
  {
   "cell_type": "code",
   "execution_count": 88,
   "metadata": {},
   "outputs": [
    {
     "data": {
      "image/png": "[encoded data removed]",
      "text/plain": [
       "<Figure size 432x288 with 2 Axes>"
      ]
     },
     "metadata": {
      "needs_background": "light"
     },
     "output_type": "display_data"
    }
   ],
   "source": [
    "# Plot histograms of the 14-day SMA RSI before and after scaling\n",
    "f, ax = plt.subplots(nrows=2, ncols=1)\n",
    "train_features.iloc[:, 2].hist(ax=ax[0])\n",
    "ax[1].hist(scaled_train_features[:, 2])\n",
    "plt.show()"
   ]
  },
  {
   "cell_type": "markdown",
   "metadata": {},
   "source": [
    "## Optimize n_neighbors"
   ]
  },
  {
   "cell_type": "code",
   "execution_count": 89,
   "metadata": {},
   "outputs": [],
   "source": [
    "from sklearn.neighbors import KNeighborsRegressor"
   ]
  },
  {
   "cell_type": "code",
   "execution_count": 90,
   "metadata": {},
   "outputs": [
    {
     "name": "stdout",
     "output_type": "stream",
     "text": [
      "n_neighbors = 2\n",
      "train, test scores\n",
      "0.7399807954377584\n",
      "-0.2740672226942691\n",
      "\n",
      "n_neighbors = 3\n",
      "train, test scores\n",
      "0.5824623875084005\n",
      "-0.1181802758587529\n",
      "\n",
      "n_neighbors = 4\n",
      "train, test scores\n",
      "0.46535493280420653\n",
      "-0.15112267167378457\n",
      "\n",
      "n_neighbors = 5\n",
      "train, test scores\n",
      "0.40037988429002047\n",
      "-0.09383063949462533\n",
      "\n",
      "n_neighbors = 6\n",
      "train, test scores\n",
      "0.3356478081872952\n",
      "-0.034500892715922715\n",
      "\n",
      "n_neighbors = 7\n",
      "train, test scores\n",
      "0.29425581102769294\n",
      "0.005022709061472175\n",
      "\n",
      "n_neighbors = 8\n",
      "train, test scores\n",
      "0.2847234128033601\n",
      "3.995633668785192e-05\n",
      "\n",
      "n_neighbors = 9\n",
      "train, test scores\n",
      "0.2690193196709867\n",
      "0.012443040356902357\n",
      "\n",
      "n_neighbors = 10\n",
      "train, test scores\n",
      "0.26768882984746856\n",
      "0.0218643652727748\n",
      "\n",
      "n_neighbors = 11\n",
      "train, test scores\n",
      "0.2420615649564759\n",
      "0.005342723766639912\n",
      "\n",
      "n_neighbors = 12\n",
      "train, test scores\n",
      "0.21366040665719777\n",
      "-0.010402295557673469\n",
      "\n"
     ]
    }
   ],
   "source": [
    "for n in range(2, 13):\n",
    "    # Create and fit the KNN model\n",
    "    knn = KNeighborsRegressor(n_neighbors=n)\n",
    "    \n",
    "    # Fit the model to the training data\n",
    "    knn.fit(scaled_train_features, train_targets)\n",
    "    \n",
    "    # Print number of neighbors and the score to find the best value of n\n",
    "    print(\"n_neighbors =\", n)\n",
    "    print('train, test scores')\n",
    "    print(knn.score(scaled_train_features, train_targets))\n",
    "    print(knn.score(scaled_test_features, test_targets))\n",
    "    print()  # prints a blank line"
   ]
  },
  {
   "cell_type": "markdown",
   "metadata": {},
   "source": [
    "## Evaluate KNN performance"
   ]
  },
  {
   "cell_type": "code",
   "execution_count": 91,
   "metadata": {},
   "outputs": [],
   "source": [
    "# Create the model with the best-performing n_neighbors of 5\n",
    "knn = KNeighborsRegressor(n_neighbors=5)"
   ]
  },
  {
   "cell_type": "code",
   "execution_count": 92,
   "metadata": {},
   "outputs": [
    {
     "data": {
      "text/plain": [
       "KNeighborsRegressor(algorithm='auto', leaf_size=30, metric='minkowski',\n",
       "          metric_params=None, n_jobs=None, n_neighbors=5, p=2,\n",
       "          weights='uniform')"
      ]
     },
     "execution_count": 92,
     "metadata": {},
     "output_type": "execute_result"
    }
   ],
   "source": [
    "# Fit the model\n",
    "knn.fit(scaled_train_features, train_targets)"
   ]
  },
  {
   "cell_type": "code",
   "execution_count": 93,
   "metadata": {},
   "outputs": [],
   "source": [
    "# Get predictions for train and test sets\n",
    "train_predictions = knn.predict(scaled_train_features)\n",
    "test_predictions = knn.predict(scaled_test_features)"
   ]
  },
  {
   "cell_type": "code",
   "execution_count": 94,
   "metadata": {},
   "outputs": [
    {
     "data": {
      "image/png": "[encoded data removed]",
      "text/plain": [
       "<Figure size 432x288 with 1 Axes>"
      ]
     },
     "metadata": {
      "needs_background": "light"
     },
     "output_type": "display_data"
    }
   ],
   "source": [
    "# Plot the actual vs predicted values\n",
    "plt.scatter(train_predictions, train_targets, label='train')\n",
    "plt.scatter(test_predictions, test_targets, label='test')\n",
    "plt.legend()\n",
    "plt.show()"
   ]
  },
  {
   "cell_type": "markdown",
   "metadata": {},
   "source": [
    "## Build and fit a simple neural net"
   ]
  },
  {
   "cell_type": "code",
   "execution_count": 95,
   "metadata": {},
   "outputs": [
    {
     "name": "stderr",
     "output_type": "stream",
     "text": [
      "Using TensorFlow backend.\n"
     ]
    }
   ],
   "source": [
    "from keras.models import Sequential\n",
    "from keras.layers import Dense"
   ]
  },
  {
   "cell_type": "code",
   "execution_count": 96,
   "metadata": {},
   "outputs": [],
   "source": [
    "# Create the model\n",
    "model_1 = Sequential()\n",
    "model_1.add(Dense(100, input_dim=scaled_train_features.shape[1], activation='relu'))\n",
    "model_1.add(Dense(20, activation='relu'))\n",
    "model_1.add(Dense(1, activation='linear'))"
   ]
  },
  {
   "cell_type": "code",
   "execution_count": 97,
   "metadata": {},
   "outputs": [
    {
     "name": "stdout",
     "output_type": "stream",
     "text": [
      "Epoch 1/25\n",
      "250/250 [==============================] - 1s 2ms/step - loss: 0.0097\n",
      "Epoch 2/25\n",
      "250/250 [==============================] - 0s 421us/step - loss: 0.0031\n",
      "Epoch 3/25\n",
      "250/250 [==============================] - 0s 485us/step - loss: 0.0021\n",
      "Epoch 4/25\n",
      "250/250 [==============================] - 0s 872us/step - loss: 0.0016\n",
      "Epoch 5/25\n",
      "250/250 [==============================] - 0s 475us/step - loss: 0.0015\n",
      "Epoch 6/25\n",
      "250/250 [==============================] - 0s 805us/step - loss: 0.0012\n",
      "Epoch 7/25\n",
      "250/250 [==============================] - 0s 388us/step - loss: 0.0011\n",
      "Epoch 8/25\n",
      "250/250 [==============================] - 0s 476us/step - loss: 0.0011\n",
      "Epoch 9/25\n",
      "250/250 [==============================] - 0s 400us/step - loss: 9.7351e-04\n",
      "Epoch 10/25\n",
      "250/250 [==============================] - 0s 468us/step - loss: 9.1870e-04\n",
      "Epoch 11/25\n",
      "250/250 [==============================] - 0s 405us/step - loss: 9.0175e-04\n",
      "Epoch 12/25\n",
      "250/250 [==============================] - 0s 474us/step - loss: 9.2970e-04\n",
      "Epoch 13/25\n",
      "250/250 [==============================] - 0s 544us/step - loss: 8.0460e-04\n",
      "Epoch 14/25\n",
      "250/250 [==============================] - 0s 393us/step - loss: 7.9832e-04\n",
      "Epoch 15/25\n",
      "250/250 [==============================] - 0s 405us/step - loss: 7.3158e-04\n",
      "Epoch 16/25\n",
      "250/250 [==============================] - 0s 1ms/step - loss: 7.3682e-04\n",
      "Epoch 17/25\n",
      "250/250 [==============================] - 0s 479us/step - loss: 7.5726e-04\n",
      "Epoch 18/25\n",
      "250/250 [==============================] - 0s 472us/step - loss: 7.4749e-04\n",
      "Epoch 19/25\n",
      "250/250 [==============================] - 0s 477us/step - loss: 7.8894e-04\n",
      "Epoch 20/25\n",
      "250/250 [==============================] - 0s 403us/step - loss: 7.1297e-04\n",
      "Epoch 21/25\n",
      "250/250 [==============================] - 0s 474us/step - loss: 6.8671e-04\n",
      "Epoch 22/25\n",
      "250/250 [==============================] - 0s 398us/step - loss: 6.6521e-04\n",
      "Epoch 23/25\n",
      "250/250 [==============================] - 0s 473us/step - loss: 6.6386e-04\n",
      "Epoch 24/25\n",
      "250/250 [==============================] - 0s 564us/step - loss: 6.6558e-04\n",
      "Epoch 25/25\n",
      "250/250 [==============================] - 0s 475us/step - loss: 6.9386e-04\n"
     ]
    }
   ],
   "source": [
    "# Fit the model\n",
    "model_1.compile(optimizer='adam', loss='mse')\n",
    "history = model_1.fit(scaled_train_features, train_targets, epochs=25)"
   ]
  },
  {
   "cell_type": "markdown",
   "metadata": {},
   "source": [
    "## Plot losses"
   ]
  },
  {
   "cell_type": "code",
   "execution_count": 98,
   "metadata": {},
   "outputs": [
    {
     "data": {
      "image/png": "[encoded data removed]",
      "text/plain": [
       "<Figure size 432x288 with 1 Axes>"
      ]
     },
     "metadata": {
      "needs_background": "light"
     },
     "output_type": "display_data"
    }
   ],
   "source": [
    "# Plot the losses from the fit\n",
    "plt.plot(history.history['loss'])\n",
    "\n",
    "# Use the last loss as the title\n",
    "plt.title('loss:' + str(round(history.history['loss'][-1], 6)))\n",
    "plt.show()"
   ]
  },
  {
   "cell_type": "markdown",
   "metadata": {},
   "source": [
    "## Measure performance"
   ]
  },
  {
   "cell_type": "code",
   "execution_count": 99,
   "metadata": {},
   "outputs": [
    {
     "name": "stdout",
     "output_type": "stream",
     "text": [
      "0.47157787351369085\n",
      "0.20767766674455734\n"
     ]
    }
   ],
   "source": [
    "from sklearn.metrics import r2_score\n",
    "\n",
    "# Calculate R^2 score\n",
    "train_preds = model_1.predict(scaled_train_features)\n",
    "test_preds = model_1.predict(scaled_test_features)\n",
    "print(r2_score(train_targets, train_preds))\n",
    "print(r2_score(test_targets, test_preds))\n",
    "\n"
   ]
  },
  {
   "cell_type": "code",
   "execution_count": 100,
   "metadata": {},
   "outputs": [
    {
     "data": {
      "image/png": "[encoded data removed]",
      "text/plain": [
       "<Figure size 432x288 with 1 Axes>"
      ]
     },
     "metadata": {
      "needs_background": "light"
     },
     "output_type": "display_data"
    }
   ],
   "source": [
    "# Plot predictions vs actual\n",
    "plt.scatter(train_preds, train_targets, label='train')\n",
    "plt.scatter(test_preds, test_targets, label='test')\n",
    "plt.legend()\n",
    "plt.show()"
   ]
  },
  {
   "cell_type": "markdown",
   "metadata": {},
   "source": [
    "## Custom loss function"
   ]
  },
  {
   "cell_type": "code",
   "execution_count": 101,
   "metadata": {},
   "outputs": [],
   "source": [
    "import keras.losses\n",
    "import tensorflow as tf"
   ]
  },
  {
   "cell_type": "code",
   "execution_count": 102,
   "metadata": {},
   "outputs": [],
   "source": [
    "# Create loss function\n",
    "def sign_penalty(y_true, y_pred):\n",
    "    penalty = 100.\n",
    "    loss = tf.where(tf.less(y_true * y_pred, 0), \\\n",
    "                     penalty * tf.square(y_true - y_pred), \\\n",
    "                     tf.square(y_true - y_pred))\n",
    "\n",
    "    return tf.reduce_mean(loss, axis=-1)"
   ]
  },
  {
   "cell_type": "code",
   "execution_count": 103,
   "metadata": {},
   "outputs": [
    {
     "data": {
      "text/plain": [
       "<function __main__.sign_penalty(y_true, y_pred)>"
      ]
     },
     "execution_count": 103,
     "metadata": {},
     "output_type": "execute_result"
    }
   ],
   "source": [
    "sign_penalty"
   ]
  },
  {
   "cell_type": "code",
   "execution_count": 104,
   "metadata": {},
   "outputs": [
    {
     "name": "stdout",
     "output_type": "stream",
     "text": [
      "<function sign_penalty at 0x7f12947a27b8>\n"
     ]
    }
   ],
   "source": [
    "keras.losses.sign_penalty = sign_penalty  # enable use of loss with keras\n",
    "print(keras.losses.sign_penalty)"
   ]
  },
  {
   "cell_type": "code",
   "execution_count": 105,
   "metadata": {},
   "outputs": [
    {
     "data": {
      "text/plain": [
       "<function __main__.sign_penalty(y_true, y_pred)>"
      ]
     },
     "execution_count": 105,
     "metadata": {},
     "output_type": "execute_result"
    }
   ],
   "source": [
    "keras.losses.sign_penalty"
   ]
  },
  {
   "cell_type": "markdown",
   "metadata": {},
   "source": [
    "## Fit neural net with custom loss function"
   ]
  },
  {
   "cell_type": "code",
   "execution_count": 106,
   "metadata": {},
   "outputs": [
    {
     "name": "stdout",
     "output_type": "stream",
     "text": [
      "Epoch 1/25\n",
      "250/250 [==============================] - 1s 4ms/step - loss: 3.3644\n",
      "Epoch 2/25\n",
      "250/250 [==============================] - 0s 473us/step - loss: 0.4686\n",
      "Epoch 3/25\n",
      "250/250 [==============================] - 0s 412us/step - loss: 0.5608\n",
      "Epoch 4/25\n",
      "250/250 [==============================] - 0s 409us/step - loss: 0.2133\n",
      "Epoch 5/25\n",
      "250/250 [==============================] - 0s 497us/step - loss: 0.1738\n",
      "Epoch 6/25\n",
      "250/250 [==============================] - 0s 487us/step - loss: 0.1212\n",
      "Epoch 7/25\n",
      "250/250 [==============================] - 0s 402us/step - loss: 0.0838\n",
      "Epoch 8/25\n",
      "250/250 [==============================] - 0s 730us/step - loss: 0.0796\n",
      "Epoch 9/25\n",
      "250/250 [==============================] - 0s 622us/step - loss: 0.0600\n",
      "Epoch 10/25\n",
      "250/250 [==============================] - 0s 409us/step - loss: 0.0553\n",
      "Epoch 11/25\n",
      "250/250 [==============================] - 0s 504us/step - loss: 0.0585\n",
      "Epoch 12/25\n",
      "250/250 [==============================] - 0s 562us/step - loss: 0.0559\n",
      "Epoch 13/25\n",
      "250/250 [==============================] - 0s 572us/step - loss: 0.0514\n",
      "Epoch 14/25\n",
      "250/250 [==============================] - 0s 464us/step - loss: 0.0439\n",
      "Epoch 15/25\n",
      "250/250 [==============================] - 0s 479us/step - loss: 0.0414\n",
      "Epoch 16/25\n",
      "250/250 [==============================] - 0s 2ms/step - loss: 0.0419\n",
      "Epoch 17/25\n",
      "250/250 [==============================] - 0s 633us/step - loss: 0.0420\n",
      "Epoch 18/25\n",
      "250/250 [==============================] - 0s 542us/step - loss: 0.0338\n",
      "Epoch 19/25\n",
      "250/250 [==============================] - 0s 417us/step - loss: 0.0333\n",
      "Epoch 20/25\n",
      "250/250 [==============================] - 0s 457us/step - loss: 0.0307\n",
      "Epoch 21/25\n",
      "250/250 [==============================] - 0s 553us/step - loss: 0.0270\n",
      "Epoch 22/25\n",
      "250/250 [==============================] - 0s 477us/step - loss: 0.0259\n",
      "Epoch 23/25\n",
      "250/250 [==============================] - 0s 475us/step - loss: 0.0268\n",
      "Epoch 24/25\n",
      "250/250 [==============================] - 0s 473us/step - loss: 0.0220\n",
      "Epoch 25/25\n",
      "250/250 [==============================] - 0s 396us/step - loss: 0.0213\n"
     ]
    },
    {
     "data": {
      "text/plain": [
       "[<matplotlib.lines.Line2D at 0x7f129c4ee710>]"
      ]
     },
     "execution_count": 106,
     "metadata": {},
     "output_type": "execute_result"
    },
    {
     "data": {
      "image/png": "[encoded data removed]",
      "text/plain": [
       "<Figure size 432x288 with 1 Axes>"
      ]
     },
     "metadata": {
      "needs_background": "light"
     },
     "output_type": "display_data"
    }
   ],
   "source": [
    "# Create the model\n",
    "model_2 = Sequential()\n",
    "model_2.add(Dense(100, input_dim=scaled_train_features.shape[1], activation='relu'))\n",
    "model_2.add(Dense(20, activation='relu'))\n",
    "model_2.add(Dense(1, activation='linear'))\n",
    "\n",
    "# Fit the model with our custom 'sign_penalty' loss function\n",
    "model_2.compile(optimizer='adam', loss=sign_penalty)\n",
    "history = model_2.fit(scaled_train_features, train_targets, epochs=25)\n",
    "plt.plot(history.history['loss'])"
   ]
  },
  {
   "cell_type": "code",
   "execution_count": 107,
   "metadata": {},
   "outputs": [
    {
     "name": "stdout",
     "output_type": "stream",
     "text": [
      "0.20146262635001577\n",
      "0.0034412397798928573\n"
     ]
    }
   ],
   "source": [
    "# Evaluate R^2 scores\n",
    "train_preds = model_2.predict(scaled_train_features)\n",
    "test_preds = model_2.predict(scaled_test_features)\n",
    "print(r2_score(train_targets, train_preds))\n",
    "print(r2_score(test_targets, test_preds))"
   ]
  },
  {
   "cell_type": "code",
   "execution_count": 108,
   "metadata": {},
   "outputs": [
    {
     "data": {
      "image/png": "[encoded data removed]",
      "text/plain": [
       "<Figure size 432x288 with 1 Axes>"
      ]
     },
     "metadata": {
      "needs_background": "light"
     },
     "output_type": "display_data"
    }
   ],
   "source": [
    "# Scatter the predictions vs actual -- this one is interesting!\n",
    "plt.scatter(train_preds, train_targets, label='train')\n",
    "plt.scatter(test_preds, test_targets, label='test')  # plot test set\n",
    "plt.legend(); plt.show()"
   ]
  },
  {
   "cell_type": "markdown",
   "metadata": {},
   "source": [
    "## Combatting overfitting with dropout"
   ]
  },
  {
   "cell_type": "code",
   "execution_count": 109,
   "metadata": {},
   "outputs": [],
   "source": [
    "from keras.layers import Dropout"
   ]
  },
  {
   "cell_type": "code",
   "execution_count": 110,
   "metadata": {},
   "outputs": [],
   "source": [
    "# Create model with dropout\n",
    "model_3 = Sequential()\n",
    "model_3.add(Dense(100, input_dim=scaled_train_features.shape[1], activation='relu'))\n",
    "model_3.add(Dropout(0.2))\n",
    "model_3.add(Dense(20, activation='relu'))\n",
    "model_3.add(Dense(1, activation='linear'))"
   ]
  },
  {
   "cell_type": "code",
   "execution_count": 111,
   "metadata": {},
   "outputs": [
    {
     "name": "stdout",
     "output_type": "stream",
     "text": [
      "Epoch 1/25\n",
      "250/250 [==============================] - 1s 3ms/step - loss: 0.0166\n",
      "Epoch 2/25\n",
      "250/250 [==============================] - 0s 408us/step - loss: 0.0093\n",
      "Epoch 3/25\n",
      "250/250 [==============================] - 0s 477us/step - loss: 0.0063\n",
      "Epoch 4/25\n",
      "250/250 [==============================] - 0s 410us/step - loss: 0.0060\n",
      "Epoch 5/25\n",
      "250/250 [==============================] - 0s 404us/step - loss: 0.0044\n",
      "Epoch 6/25\n",
      "250/250 [==============================] - 0s 713us/step - loss: 0.0038\n",
      "Epoch 7/25\n",
      "250/250 [==============================] - 0s 476us/step - loss: 0.0039\n",
      "Epoch 8/25\n",
      "250/250 [==============================] - 0s 475us/step - loss: 0.0030\n",
      "Epoch 9/25\n",
      "250/250 [==============================] - 0s 498us/step - loss: 0.0026\n",
      "Epoch 10/25\n",
      "250/250 [==============================] - 0s 389us/step - loss: 0.0029\n",
      "Epoch 11/25\n",
      "250/250 [==============================] - 0s 619us/step - loss: 0.0028\n",
      "Epoch 12/25\n",
      "250/250 [==============================] - 0s 477us/step - loss: 0.0024\n",
      "Epoch 13/25\n",
      "250/250 [==============================] - 0s 477us/step - loss: 0.0020\n",
      "Epoch 14/25\n",
      "250/250 [==============================] - 0s 397us/step - loss: 0.0023\n",
      "Epoch 15/25\n",
      "250/250 [==============================] - 0s 481us/step - loss: 0.0016\n",
      "Epoch 16/25\n",
      "250/250 [==============================] - 0s 400us/step - loss: 0.0020\n",
      "Epoch 17/25\n",
      "250/250 [==============================] - 0s 405us/step - loss: 0.0018\n",
      "Epoch 18/25\n",
      "250/250 [==============================] - 0s 540us/step - loss: 0.0017\n",
      "Epoch 19/25\n",
      "250/250 [==============================] - 0s 407us/step - loss: 0.0015\n",
      "Epoch 20/25\n",
      "250/250 [==============================] - 0s 545us/step - loss: 0.0015\n",
      "Epoch 21/25\n",
      "250/250 [==============================] - 0s 509us/step - loss: 0.0013\n",
      "Epoch 22/25\n",
      "250/250 [==============================] - 0s 604us/step - loss: 0.0014\n",
      "Epoch 23/25\n",
      "250/250 [==============================] - 0s 483us/step - loss: 0.0015\n",
      "Epoch 24/25\n",
      "250/250 [==============================] - 0s 480us/step - loss: 0.0013\n",
      "Epoch 25/25\n",
      "250/250 [==============================] - 0s 547us/step - loss: 0.0011\n"
     ]
    },
    {
     "data": {
      "image/png": "[encoded data removed]",
      "text/plain": [
       "<Figure size 432x288 with 1 Axes>"
      ]
     },
     "metadata": {
      "needs_background": "light"
     },
     "output_type": "display_data"
    }
   ],
   "source": [
    "# Fit model with mean squared error loss function\n",
    "model_3.compile(optimizer='adam', loss='mse')\n",
    "history = model_3.fit(scaled_train_features, train_targets, epochs=25)\n",
    "plt.plot(history.history['loss'])\n",
    "plt.title('loss:' + str(round(history.history['loss'][-1], 6)))\n",
    "plt.show()"
   ]
  },
  {
   "cell_type": "markdown",
   "metadata": {},
   "source": [
    "## Ensembling models"
   ]
  },
  {
   "cell_type": "code",
   "execution_count": 112,
   "metadata": {},
   "outputs": [
    {
     "name": "stdout",
     "output_type": "stream",
     "text": [
      "[ 0.01219115  0.01326992 -0.01284852 -0.00384607  0.01471471]\n"
     ]
    }
   ],
   "source": [
    "# Make predictions from the 3 neural net models\n",
    "train_pred1 = model_1.predict(scaled_train_features)\n",
    "test_pred1 = model_1.predict(scaled_test_features)\n",
    "\n",
    "train_pred2 = model_2.predict(scaled_train_features)\n",
    "test_pred2 = model_2.predict(scaled_test_features)\n",
    "\n",
    "train_pred3 = model_3.predict(scaled_train_features)\n",
    "test_pred3 = model_3.predict(scaled_test_features)\n",
    "\n",
    "# Horizontally stack predictions and take the average across rows\n",
    "train_preds = np.mean(np.hstack((train_pred1, train_pred2, train_pred3)), axis=1)\n",
    "test_preds = np.mean(np.hstack((test_pred1, test_pred2, test_pred3)), axis=1)\n",
    "print(test_preds[-5:])"
   ]
  },
  {
   "cell_type": "markdown",
   "metadata": {},
   "source": [
    "## See how the ensemble performed"
   ]
  },
  {
   "cell_type": "code",
   "execution_count": 113,
   "metadata": {},
   "outputs": [],
   "source": [
    "from sklearn.metrics import r2_score"
   ]
  },
  {
   "cell_type": "code",
   "execution_count": 114,
   "metadata": {},
   "outputs": [
    {
     "name": "stdout",
     "output_type": "stream",
     "text": [
      "0.35399062535234305\n",
      "0.19339735104780553\n"
     ]
    }
   ],
   "source": [
    "# Evaluate the R^2 scores\n",
    "print(r2_score(train_targets, train_preds))\n",
    "print(r2_score(test_targets, test_preds))"
   ]
  },
  {
   "cell_type": "code",
   "execution_count": 115,
   "metadata": {},
   "outputs": [
    {
     "data": {
      "image/png": "[encoded data removed]",
      "text/plain": [
       "<Figure size 432x288 with 1 Axes>"
      ]
     },
     "metadata": {
      "needs_background": "light"
     },
     "output_type": "display_data"
    }
   ],
   "source": [
    "# Scatter the predictions vs actual -- this one is interesting!\n",
    "plt.scatter(train_preds, train_targets, label='train')\n",
    "plt.scatter(test_preds, test_targets, label='test')\n",
    "plt.legend(); plt.show()"
   ]
  },
  {
   "cell_type": "markdown",
   "metadata": {},
   "source": [
    "# Chapter 4 - Modern portfolio theory (MPT); efficient frontiers"
   ]
  },
  {
   "cell_type": "markdown",
   "metadata": {},
   "source": [
    "## Join stock DataFrames and calculate returns"
   ]
  },
  {
   "cell_type": "code",
   "execution_count": 129,
   "metadata": {},
   "outputs": [
    {
     "data": {
      "text/html": [
       "<div>\n",
       "<style scoped>\n",
       "    .dataframe tbody tr th:only-of-type {\n",
       "        vertical-align: middle;\n",
       "    }\n",
       "\n",
       "    .dataframe tbody tr th {\n",
       "        vertical-align: top;\n",
       "    }\n",
       "\n",
       "    .dataframe thead th {\n",
       "        text-align: right;\n",
       "    }\n",
       "</style>\n",
       "<table border=\"1\" class=\"dataframe\">\n",
       "  <thead>\n",
       "    <tr style=\"text-align: right;\">\n",
       "      <th></th>\n",
       "      <th>Adj_Close</th>\n",
       "    </tr>\n",
       "    <tr>\n",
       "      <th>Date</th>\n",
       "      <th></th>\n",
       "    </tr>\n",
       "  </thead>\n",
       "  <tbody>\n",
       "    <tr>\n",
       "      <th>2013-02-21</th>\n",
       "      <td>49.482507</td>\n",
       "    </tr>\n",
       "    <tr>\n",
       "      <th>2013-02-22</th>\n",
       "      <td>49.881225</td>\n",
       "    </tr>\n",
       "    <tr>\n",
       "      <th>2013-02-25</th>\n",
       "      <td>49.440974</td>\n",
       "    </tr>\n",
       "    <tr>\n",
       "      <th>2013-02-26</th>\n",
       "      <td>49.200082</td>\n",
       "    </tr>\n",
       "    <tr>\n",
       "      <th>2013-02-27</th>\n",
       "      <td>49.424361</td>\n",
       "    </tr>\n",
       "    <tr>\n",
       "      <th>...</th>\n",
       "      <td>...</td>\n",
       "    </tr>\n",
       "    <tr>\n",
       "      <th>2018-05-24</th>\n",
       "      <td>92.934000</td>\n",
       "    </tr>\n",
       "    <tr>\n",
       "      <th>2018-05-25</th>\n",
       "      <td>93.093800</td>\n",
       "    </tr>\n",
       "    <tr>\n",
       "      <th>2018-05-29</th>\n",
       "      <td>93.190000</td>\n",
       "    </tr>\n",
       "    <tr>\n",
       "      <th>2018-05-30</th>\n",
       "      <td>94.362100</td>\n",
       "    </tr>\n",
       "    <tr>\n",
       "      <th>2018-05-31</th>\n",
       "      <td>93.648000</td>\n",
       "    </tr>\n",
       "  </tbody>\n",
       "</table>\n",
       "<p>1329 rows × 1 columns</p>\n",
       "</div>"
      ],
      "text/plain": [
       "            Adj_Close\n",
       "Date                 \n",
       "2013-02-21  49.482507\n",
       "2013-02-22  49.881225\n",
       "2013-02-25  49.440974\n",
       "2013-02-26  49.200082\n",
       "2013-02-27  49.424361\n",
       "...               ...\n",
       "2018-05-24  92.934000\n",
       "2018-05-25  93.093800\n",
       "2018-05-29  93.190000\n",
       "2018-05-30  94.362100\n",
       "2018-05-31  93.648000\n",
       "\n",
       "[1329 rows x 1 columns]"
      ]
     },
     "execution_count": 129,
     "metadata": {},
     "output_type": "execute_result"
    }
   ],
   "source": [
    "smlv = pd.read_csv(\"SMLV.csv\", usecols=[\"Date\", \"Adj_Close\"], parse_dates=[\"Date\"], index_col=0)\n",
    "smlv_df = smlv['2013-02-21':'2018-05-31']\n",
    "smlv_df"
   ]
  },
  {
   "cell_type": "code",
   "execution_count": 130,
   "metadata": {},
   "outputs": [
    {
     "data": {
      "text/html": [
       "<div>\n",
       "<style scoped>\n",
       "    .dataframe tbody tr th:only-of-type {\n",
       "        vertical-align: middle;\n",
       "    }\n",
       "\n",
       "    .dataframe tbody tr th {\n",
       "        vertical-align: top;\n",
       "    }\n",
       "\n",
       "    .dataframe thead th {\n",
       "        text-align: right;\n",
       "    }\n",
       "</style>\n",
       "<table border=\"1\" class=\"dataframe\">\n",
       "  <thead>\n",
       "    <tr style=\"text-align: right;\">\n",
       "      <th></th>\n",
       "      <th>Adj_Close</th>\n",
       "    </tr>\n",
       "    <tr>\n",
       "      <th>Date</th>\n",
       "      <th></th>\n",
       "    </tr>\n",
       "  </thead>\n",
       "  <tbody>\n",
       "    <tr>\n",
       "      <th>1994-04-04</th>\n",
       "      <td>72.00</td>\n",
       "    </tr>\n",
       "    <tr>\n",
       "      <th>1994-04-05</th>\n",
       "      <td>108.00</td>\n",
       "    </tr>\n",
       "    <tr>\n",
       "      <th>1994-04-06</th>\n",
       "      <td>108.00</td>\n",
       "    </tr>\n",
       "    <tr>\n",
       "      <th>1994-04-07</th>\n",
       "      <td>108.00</td>\n",
       "    </tr>\n",
       "    <tr>\n",
       "      <th>1994-04-08</th>\n",
       "      <td>108.00</td>\n",
       "    </tr>\n",
       "    <tr>\n",
       "      <th>...</th>\n",
       "      <td>...</td>\n",
       "    </tr>\n",
       "    <tr>\n",
       "      <th>2018-05-24</th>\n",
       "      <td>61.67</td>\n",
       "    </tr>\n",
       "    <tr>\n",
       "      <th>2018-05-25</th>\n",
       "      <td>62.16</td>\n",
       "    </tr>\n",
       "    <tr>\n",
       "      <th>2018-05-29</th>\n",
       "      <td>63.31</td>\n",
       "    </tr>\n",
       "    <tr>\n",
       "      <th>2018-05-30</th>\n",
       "      <td>66.98</td>\n",
       "    </tr>\n",
       "    <tr>\n",
       "      <th>2018-05-31</th>\n",
       "      <td>66.62</td>\n",
       "    </tr>\n",
       "  </tbody>\n",
       "</table>\n",
       "<p>6084 rows × 1 columns</p>\n",
       "</div>"
      ],
      "text/plain": [
       "            Adj_Close\n",
       "Date                 \n",
       "1994-04-04      72.00\n",
       "1994-04-05     108.00\n",
       "1994-04-06     108.00\n",
       "1994-04-07     108.00\n",
       "1994-04-08     108.00\n",
       "...               ...\n",
       "2018-05-24      61.67\n",
       "2018-05-25      62.16\n",
       "2018-05-29      63.31\n",
       "2018-05-30      66.98\n",
       "2018-05-31      66.62\n",
       "\n",
       "[6084 rows x 1 columns]"
      ]
     },
     "execution_count": 130,
     "metadata": {},
     "output_type": "execute_result"
    }
   ],
   "source": [
    "lng = pd.read_csv(\"LNG.csv\", usecols=[\"Date\", \"Adj_Close\"], index_col=0, parse_dates=[\"Date\"])\n",
    "lng_df = lng['1994-04-04':'2018-05-31']\n",
    "lng_df"
   ]
  },
  {
   "cell_type": "code",
   "execution_count": 131,
   "metadata": {},
   "outputs": [
    {
     "data": {
      "text/html": [
       "<div>\n",
       "<style scoped>\n",
       "    .dataframe tbody tr th:only-of-type {\n",
       "        vertical-align: middle;\n",
       "    }\n",
       "\n",
       "    .dataframe tbody tr th {\n",
       "        vertical-align: top;\n",
       "    }\n",
       "\n",
       "    .dataframe thead th {\n",
       "        text-align: right;\n",
       "    }\n",
       "</style>\n",
       "<table border=\"1\" class=\"dataframe\">\n",
       "  <thead>\n",
       "    <tr style=\"text-align: right;\">\n",
       "      <th></th>\n",
       "      <th>Adj_Close</th>\n",
       "    </tr>\n",
       "    <tr>\n",
       "      <th>Date</th>\n",
       "      <th></th>\n",
       "    </tr>\n",
       "  </thead>\n",
       "  <tbody>\n",
       "    <tr>\n",
       "      <th>1993-01-29</th>\n",
       "      <td>27.356758</td>\n",
       "    </tr>\n",
       "    <tr>\n",
       "      <th>1993-02-01</th>\n",
       "      <td>27.551329</td>\n",
       "    </tr>\n",
       "    <tr>\n",
       "      <th>1993-02-02</th>\n",
       "      <td>27.609670</td>\n",
       "    </tr>\n",
       "    <tr>\n",
       "      <th>1993-02-03</th>\n",
       "      <td>27.901558</td>\n",
       "    </tr>\n",
       "    <tr>\n",
       "      <th>1993-02-04</th>\n",
       "      <td>28.018301</td>\n",
       "    </tr>\n",
       "    <tr>\n",
       "      <th>...</th>\n",
       "      <td>...</td>\n",
       "    </tr>\n",
       "    <tr>\n",
       "      <th>2018-05-24</th>\n",
       "      <td>272.800000</td>\n",
       "    </tr>\n",
       "    <tr>\n",
       "      <th>2018-05-25</th>\n",
       "      <td>272.150000</td>\n",
       "    </tr>\n",
       "    <tr>\n",
       "      <th>2018-05-29</th>\n",
       "      <td>269.020000</td>\n",
       "    </tr>\n",
       "    <tr>\n",
       "      <th>2018-05-30</th>\n",
       "      <td>272.610000</td>\n",
       "    </tr>\n",
       "    <tr>\n",
       "      <th>2018-05-31</th>\n",
       "      <td>270.940000</td>\n",
       "    </tr>\n",
       "  </tbody>\n",
       "</table>\n",
       "<p>6381 rows × 1 columns</p>\n",
       "</div>"
      ],
      "text/plain": [
       "             Adj_Close\n",
       "Date                  \n",
       "1993-01-29   27.356758\n",
       "1993-02-01   27.551329\n",
       "1993-02-02   27.609670\n",
       "1993-02-03   27.901558\n",
       "1993-02-04   28.018301\n",
       "...                ...\n",
       "2018-05-24  272.800000\n",
       "2018-05-25  272.150000\n",
       "2018-05-29  269.020000\n",
       "2018-05-30  272.610000\n",
       "2018-05-31  270.940000\n",
       "\n",
       "[6381 rows x 1 columns]"
      ]
     },
     "execution_count": 131,
     "metadata": {},
     "output_type": "execute_result"
    }
   ],
   "source": [
    "spy = pd.read_csv(\"SPY_ch4.csv\", usecols=[\"Date\", \"Adj_Close\"], index_col=0, parse_dates=[\"Date\"])\n",
    "spy"
   ]
  },
  {
   "cell_type": "code",
   "execution_count": 132,
   "metadata": {},
   "outputs": [
    {
     "data": {
      "text/html": [
       "<div>\n",
       "<style scoped>\n",
       "    .dataframe tbody tr th:only-of-type {\n",
       "        vertical-align: middle;\n",
       "    }\n",
       "\n",
       "    .dataframe tbody tr th {\n",
       "        vertical-align: top;\n",
       "    }\n",
       "\n",
       "    .dataframe thead th {\n",
       "        text-align: right;\n",
       "    }\n",
       "</style>\n",
       "<table border=\"1\" class=\"dataframe\">\n",
       "  <thead>\n",
       "    <tr style=\"text-align: right;\">\n",
       "      <th></th>\n",
       "      <th>Adj_Close</th>\n",
       "    </tr>\n",
       "    <tr>\n",
       "      <th>Date</th>\n",
       "      <th></th>\n",
       "    </tr>\n",
       "  </thead>\n",
       "  <tbody>\n",
       "    <tr>\n",
       "      <th>1993-01-29</th>\n",
       "      <td>27.356758</td>\n",
       "    </tr>\n",
       "    <tr>\n",
       "      <th>1993-02-01</th>\n",
       "      <td>27.551329</td>\n",
       "    </tr>\n",
       "    <tr>\n",
       "      <th>1993-02-02</th>\n",
       "      <td>27.609670</td>\n",
       "    </tr>\n",
       "    <tr>\n",
       "      <th>1993-02-03</th>\n",
       "      <td>27.901558</td>\n",
       "    </tr>\n",
       "    <tr>\n",
       "      <th>1993-02-04</th>\n",
       "      <td>28.018301</td>\n",
       "    </tr>\n",
       "    <tr>\n",
       "      <th>...</th>\n",
       "      <td>...</td>\n",
       "    </tr>\n",
       "    <tr>\n",
       "      <th>2018-05-24</th>\n",
       "      <td>272.800000</td>\n",
       "    </tr>\n",
       "    <tr>\n",
       "      <th>2018-05-25</th>\n",
       "      <td>272.150000</td>\n",
       "    </tr>\n",
       "    <tr>\n",
       "      <th>2018-05-29</th>\n",
       "      <td>269.020000</td>\n",
       "    </tr>\n",
       "    <tr>\n",
       "      <th>2018-05-30</th>\n",
       "      <td>272.610000</td>\n",
       "    </tr>\n",
       "    <tr>\n",
       "      <th>2018-05-31</th>\n",
       "      <td>270.940000</td>\n",
       "    </tr>\n",
       "  </tbody>\n",
       "</table>\n",
       "<p>6381 rows × 1 columns</p>\n",
       "</div>"
      ],
      "text/plain": [
       "             Adj_Close\n",
       "Date                  \n",
       "1993-01-29   27.356758\n",
       "1993-02-01   27.551329\n",
       "1993-02-02   27.609670\n",
       "1993-02-03   27.901558\n",
       "1993-02-04   28.018301\n",
       "...                ...\n",
       "2018-05-24  272.800000\n",
       "2018-05-25  272.150000\n",
       "2018-05-29  269.020000\n",
       "2018-05-30  272.610000\n",
       "2018-05-31  270.940000\n",
       "\n",
       "[6381 rows x 1 columns]"
      ]
     },
     "execution_count": 132,
     "metadata": {},
     "output_type": "execute_result"
    }
   ],
   "source": [
    "spy_df = spy['1993-01-29':'2018-05-31']\n",
    "spy_df"
   ]
  },
  {
   "cell_type": "code",
   "execution_count": 135,
   "metadata": {},
   "outputs": [
    {
     "data": {
      "text/html": [
       "<div>\n",
       "<style scoped>\n",
       "    .dataframe tbody tr th:only-of-type {\n",
       "        vertical-align: middle;\n",
       "    }\n",
       "\n",
       "    .dataframe tbody tr th {\n",
       "        vertical-align: top;\n",
       "    }\n",
       "\n",
       "    .dataframe thead th {\n",
       "        text-align: right;\n",
       "    }\n",
       "</style>\n",
       "<table border=\"1\" class=\"dataframe\">\n",
       "  <thead>\n",
       "    <tr style=\"text-align: right;\">\n",
       "      <th></th>\n",
       "      <th>Adj_Close</th>\n",
       "      <th>Adj_Close</th>\n",
       "      <th>Adj_Close</th>\n",
       "    </tr>\n",
       "    <tr>\n",
       "      <th>Date</th>\n",
       "      <th></th>\n",
       "      <th></th>\n",
       "      <th></th>\n",
       "    </tr>\n",
       "  </thead>\n",
       "  <tbody>\n",
       "    <tr>\n",
       "      <th>2013-02-21</th>\n",
       "      <td>20.21</td>\n",
       "      <td>135.507156</td>\n",
       "      <td>49.482507</td>\n",
       "    </tr>\n",
       "    <tr>\n",
       "      <th>2013-02-22</th>\n",
       "      <td>20.99</td>\n",
       "      <td>136.831419</td>\n",
       "      <td>49.881225</td>\n",
       "    </tr>\n",
       "    <tr>\n",
       "      <th>2013-02-25</th>\n",
       "      <td>20.44</td>\n",
       "      <td>134.227938</td>\n",
       "      <td>49.440974</td>\n",
       "    </tr>\n",
       "    <tr>\n",
       "      <th>2013-02-26</th>\n",
       "      <td>21.15</td>\n",
       "      <td>135.146818</td>\n",
       "      <td>49.200082</td>\n",
       "    </tr>\n",
       "    <tr>\n",
       "      <th>2013-02-27</th>\n",
       "      <td>21.57</td>\n",
       "      <td>136.849441</td>\n",
       "      <td>49.424361</td>\n",
       "    </tr>\n",
       "    <tr>\n",
       "      <th>...</th>\n",
       "      <td>...</td>\n",
       "      <td>...</td>\n",
       "      <td>...</td>\n",
       "    </tr>\n",
       "    <tr>\n",
       "      <th>2018-05-24</th>\n",
       "      <td>61.67</td>\n",
       "      <td>272.800000</td>\n",
       "      <td>92.934000</td>\n",
       "    </tr>\n",
       "    <tr>\n",
       "      <th>2018-05-25</th>\n",
       "      <td>62.16</td>\n",
       "      <td>272.150000</td>\n",
       "      <td>93.093800</td>\n",
       "    </tr>\n",
       "    <tr>\n",
       "      <th>2018-05-29</th>\n",
       "      <td>63.31</td>\n",
       "      <td>269.020000</td>\n",
       "      <td>93.190000</td>\n",
       "    </tr>\n",
       "    <tr>\n",
       "      <th>2018-05-30</th>\n",
       "      <td>66.98</td>\n",
       "      <td>272.610000</td>\n",
       "      <td>94.362100</td>\n",
       "    </tr>\n",
       "    <tr>\n",
       "      <th>2018-05-31</th>\n",
       "      <td>66.62</td>\n",
       "      <td>270.940000</td>\n",
       "      <td>93.648000</td>\n",
       "    </tr>\n",
       "  </tbody>\n",
       "</table>\n",
       "<p>1329 rows × 3 columns</p>\n",
       "</div>"
      ],
      "text/plain": [
       "            Adj_Close   Adj_Close  Adj_Close\n",
       "Date                                        \n",
       "2013-02-21      20.21  135.507156  49.482507\n",
       "2013-02-22      20.99  136.831419  49.881225\n",
       "2013-02-25      20.44  134.227938  49.440974\n",
       "2013-02-26      21.15  135.146818  49.200082\n",
       "2013-02-27      21.57  136.849441  49.424361\n",
       "...               ...         ...        ...\n",
       "2018-05-24      61.67  272.800000  92.934000\n",
       "2018-05-25      62.16  272.150000  93.093800\n",
       "2018-05-29      63.31  269.020000  93.190000\n",
       "2018-05-30      66.98  272.610000  94.362100\n",
       "2018-05-31      66.62  270.940000  93.648000\n",
       "\n",
       "[1329 rows x 3 columns]"
      ]
     },
     "execution_count": 135,
     "metadata": {},
     "output_type": "execute_result"
    }
   ],
   "source": [
    "# Join 3 stock dataframes together\n",
    "full_df = pd.concat([lng_df, spy_df, smlv_df], axis=1).dropna()\n",
    "full_df"
   ]
  },
  {
   "cell_type": "code",
   "execution_count": 140,
   "metadata": {},
   "outputs": [
    {
     "data": {
      "text/html": [
       "<div>\n",
       "<style scoped>\n",
       "    .dataframe tbody tr th:only-of-type {\n",
       "        vertical-align: middle;\n",
       "    }\n",
       "\n",
       "    .dataframe tbody tr th {\n",
       "        vertical-align: top;\n",
       "    }\n",
       "\n",
       "    .dataframe thead th {\n",
       "        text-align: right;\n",
       "    }\n",
       "</style>\n",
       "<table border=\"1\" class=\"dataframe\">\n",
       "  <thead>\n",
       "    <tr style=\"text-align: right;\">\n",
       "      <th></th>\n",
       "      <th>LNG</th>\n",
       "      <th>SPY</th>\n",
       "      <th>SMLV</th>\n",
       "    </tr>\n",
       "    <tr>\n",
       "      <th>Date</th>\n",
       "      <th></th>\n",
       "      <th></th>\n",
       "      <th></th>\n",
       "    </tr>\n",
       "  </thead>\n",
       "  <tbody>\n",
       "    <tr>\n",
       "      <th>2013-02-21</th>\n",
       "      <td>20.21</td>\n",
       "      <td>135.507156</td>\n",
       "      <td>49.482507</td>\n",
       "    </tr>\n",
       "    <tr>\n",
       "      <th>2013-02-22</th>\n",
       "      <td>20.99</td>\n",
       "      <td>136.831419</td>\n",
       "      <td>49.881225</td>\n",
       "    </tr>\n",
       "    <tr>\n",
       "      <th>2013-02-25</th>\n",
       "      <td>20.44</td>\n",
       "      <td>134.227938</td>\n",
       "      <td>49.440974</td>\n",
       "    </tr>\n",
       "    <tr>\n",
       "      <th>2013-02-26</th>\n",
       "      <td>21.15</td>\n",
       "      <td>135.146818</td>\n",
       "      <td>49.200082</td>\n",
       "    </tr>\n",
       "    <tr>\n",
       "      <th>2013-02-27</th>\n",
       "      <td>21.57</td>\n",
       "      <td>136.849441</td>\n",
       "      <td>49.424361</td>\n",
       "    </tr>\n",
       "  </tbody>\n",
       "</table>\n",
       "</div>"
      ],
      "text/plain": [
       "              LNG         SPY       SMLV\n",
       "Date                                    \n",
       "2013-02-21  20.21  135.507156  49.482507\n",
       "2013-02-22  20.99  136.831419  49.881225\n",
       "2013-02-25  20.44  134.227938  49.440974\n",
       "2013-02-26  21.15  135.146818  49.200082\n",
       "2013-02-27  21.57  136.849441  49.424361"
      ]
     },
     "execution_count": 140,
     "metadata": {},
     "output_type": "execute_result"
    }
   ],
   "source": [
    "full_df.columns = ['LNG', 'SPY', 'SMLV']\n",
    "full_df.head()"
   ]
  },
  {
   "cell_type": "code",
   "execution_count": 123,
   "metadata": {},
   "outputs": [],
   "source": [
    "# Resample the full dataframe to monthly timeframe\n",
    "monthly_df = full_df.resample('BMS').first()"
   ]
  },
  {
   "cell_type": "code",
   "execution_count": 124,
   "metadata": {},
   "outputs": [
    {
     "data": {
      "text/html": [
       "<div>\n",
       "<style scoped>\n",
       "    .dataframe tbody tr th:only-of-type {\n",
       "        vertical-align: middle;\n",
       "    }\n",
       "\n",
       "    .dataframe tbody tr th {\n",
       "        vertical-align: top;\n",
       "    }\n",
       "\n",
       "    .dataframe thead th {\n",
       "        text-align: right;\n",
       "    }\n",
       "</style>\n",
       "<table border=\"1\" class=\"dataframe\">\n",
       "  <thead>\n",
       "    <tr style=\"text-align: right;\">\n",
       "      <th></th>\n",
       "      <th>Adj_Close</th>\n",
       "      <th>Adj_Close</th>\n",
       "      <th>Adj_Close</th>\n",
       "    </tr>\n",
       "    <tr>\n",
       "      <th>Date</th>\n",
       "      <th></th>\n",
       "      <th></th>\n",
       "      <th></th>\n",
       "    </tr>\n",
       "  </thead>\n",
       "  <tbody>\n",
       "    <tr>\n",
       "      <th>2013-02-01</th>\n",
       "      <td>20.21</td>\n",
       "      <td>139.802535</td>\n",
       "      <td>49.482507</td>\n",
       "    </tr>\n",
       "    <tr>\n",
       "      <th>2013-03-01</th>\n",
       "      <td>21.16</td>\n",
       "      <td>141.373248</td>\n",
       "      <td>49.507427</td>\n",
       "    </tr>\n",
       "    <tr>\n",
       "      <th>2013-04-01</th>\n",
       "      <td>27.94</td>\n",
       "      <td>145.681068</td>\n",
       "      <td>51.366077</td>\n",
       "    </tr>\n",
       "    <tr>\n",
       "      <th>2013-05-01</th>\n",
       "      <td>27.89</td>\n",
       "      <td>147.762889</td>\n",
       "      <td>51.607545</td>\n",
       "    </tr>\n",
       "    <tr>\n",
       "      <th>2013-06-03</th>\n",
       "      <td>29.24</td>\n",
       "      <td>153.429567</td>\n",
       "      <td>52.648355</td>\n",
       "    </tr>\n",
       "    <tr>\n",
       "      <th>...</th>\n",
       "      <td>...</td>\n",
       "      <td>...</td>\n",
       "      <td>...</td>\n",
       "    </tr>\n",
       "    <tr>\n",
       "      <th>2018-01-01</th>\n",
       "      <td>54.70</td>\n",
       "      <td>267.699223</td>\n",
       "      <td>91.135411</td>\n",
       "    </tr>\n",
       "    <tr>\n",
       "      <th>2018-02-01</th>\n",
       "      <td>57.86</td>\n",
       "      <td>280.458188</td>\n",
       "      <td>90.787034</td>\n",
       "    </tr>\n",
       "    <tr>\n",
       "      <th>2018-03-01</th>\n",
       "      <td>51.88</td>\n",
       "      <td>266.633486</td>\n",
       "      <td>86.417392</td>\n",
       "    </tr>\n",
       "    <tr>\n",
       "      <th>2018-04-02</th>\n",
       "      <td>52.99</td>\n",
       "      <td>257.470000</td>\n",
       "      <td>87.230200</td>\n",
       "    </tr>\n",
       "    <tr>\n",
       "      <th>2018-05-01</th>\n",
       "      <td>58.73</td>\n",
       "      <td>264.980000</td>\n",
       "      <td>89.626300</td>\n",
       "    </tr>\n",
       "  </tbody>\n",
       "</table>\n",
       "<p>64 rows × 3 columns</p>\n",
       "</div>"
      ],
      "text/plain": [
       "            Adj_Close   Adj_Close  Adj_Close\n",
       "Date                                        \n",
       "2013-02-01      20.21  139.802535  49.482507\n",
       "2013-03-01      21.16  141.373248  49.507427\n",
       "2013-04-01      27.94  145.681068  51.366077\n",
       "2013-05-01      27.89  147.762889  51.607545\n",
       "2013-06-03      29.24  153.429567  52.648355\n",
       "...               ...         ...        ...\n",
       "2018-01-01      54.70  267.699223  91.135411\n",
       "2018-02-01      57.86  280.458188  90.787034\n",
       "2018-03-01      51.88  266.633486  86.417392\n",
       "2018-04-02      52.99  257.470000  87.230200\n",
       "2018-05-01      58.73  264.980000  89.626300\n",
       "\n",
       "[64 rows x 3 columns]"
      ]
     },
     "execution_count": 124,
     "metadata": {},
     "output_type": "execute_result"
    }
   ],
   "source": [
    "monthly_df"
   ]
  },
  {
   "cell_type": "code",
   "execution_count": 125,
   "metadata": {},
   "outputs": [
    {
     "data": {
      "text/html": [
       "<div>\n",
       "<style scoped>\n",
       "    .dataframe tbody tr th:only-of-type {\n",
       "        vertical-align: middle;\n",
       "    }\n",
       "\n",
       "    .dataframe tbody tr th {\n",
       "        vertical-align: top;\n",
       "    }\n",
       "\n",
       "    .dataframe thead th {\n",
       "        text-align: right;\n",
       "    }\n",
       "</style>\n",
       "<table border=\"1\" class=\"dataframe\">\n",
       "  <thead>\n",
       "    <tr style=\"text-align: right;\">\n",
       "      <th></th>\n",
       "      <th>Adj_Close</th>\n",
       "      <th>Adj_Close</th>\n",
       "      <th>Adj_Close</th>\n",
       "    </tr>\n",
       "    <tr>\n",
       "      <th>Date</th>\n",
       "      <th></th>\n",
       "      <th></th>\n",
       "      <th></th>\n",
       "    </tr>\n",
       "  </thead>\n",
       "  <tbody>\n",
       "    <tr>\n",
       "      <th>2013-02-21</th>\n",
       "      <td>NaN</td>\n",
       "      <td>NaN</td>\n",
       "      <td>NaN</td>\n",
       "    </tr>\n",
       "    <tr>\n",
       "      <th>2013-02-22</th>\n",
       "      <td>0.038595</td>\n",
       "      <td>0.009773</td>\n",
       "      <td>0.008058</td>\n",
       "    </tr>\n",
       "    <tr>\n",
       "      <th>2013-02-25</th>\n",
       "      <td>-0.026203</td>\n",
       "      <td>-0.019027</td>\n",
       "      <td>-0.008826</td>\n",
       "    </tr>\n",
       "    <tr>\n",
       "      <th>2013-02-26</th>\n",
       "      <td>0.034736</td>\n",
       "      <td>0.006846</td>\n",
       "      <td>-0.004872</td>\n",
       "    </tr>\n",
       "    <tr>\n",
       "      <th>2013-02-27</th>\n",
       "      <td>0.019858</td>\n",
       "      <td>0.012598</td>\n",
       "      <td>0.004559</td>\n",
       "    </tr>\n",
       "    <tr>\n",
       "      <th>...</th>\n",
       "      <td>...</td>\n",
       "      <td>...</td>\n",
       "      <td>...</td>\n",
       "    </tr>\n",
       "    <tr>\n",
       "      <th>2018-05-24</th>\n",
       "      <td>-0.019087</td>\n",
       "      <td>-0.002049</td>\n",
       "      <td>0.002092</td>\n",
       "    </tr>\n",
       "    <tr>\n",
       "      <th>2018-05-25</th>\n",
       "      <td>0.007946</td>\n",
       "      <td>-0.002383</td>\n",
       "      <td>0.001719</td>\n",
       "    </tr>\n",
       "    <tr>\n",
       "      <th>2018-05-29</th>\n",
       "      <td>0.018501</td>\n",
       "      <td>-0.011501</td>\n",
       "      <td>0.001033</td>\n",
       "    </tr>\n",
       "    <tr>\n",
       "      <th>2018-05-30</th>\n",
       "      <td>0.057969</td>\n",
       "      <td>0.013345</td>\n",
       "      <td>0.012578</td>\n",
       "    </tr>\n",
       "    <tr>\n",
       "      <th>2018-05-31</th>\n",
       "      <td>-0.005375</td>\n",
       "      <td>-0.006126</td>\n",
       "      <td>-0.007568</td>\n",
       "    </tr>\n",
       "  </tbody>\n",
       "</table>\n",
       "<p>1329 rows × 3 columns</p>\n",
       "</div>"
      ],
      "text/plain": [
       "            Adj_Close  Adj_Close  Adj_Close\n",
       "Date                                       \n",
       "2013-02-21        NaN        NaN        NaN\n",
       "2013-02-22   0.038595   0.009773   0.008058\n",
       "2013-02-25  -0.026203  -0.019027  -0.008826\n",
       "2013-02-26   0.034736   0.006846  -0.004872\n",
       "2013-02-27   0.019858   0.012598   0.004559\n",
       "...               ...        ...        ...\n",
       "2018-05-24  -0.019087  -0.002049   0.002092\n",
       "2018-05-25   0.007946  -0.002383   0.001719\n",
       "2018-05-29   0.018501  -0.011501   0.001033\n",
       "2018-05-30   0.057969   0.013345   0.012578\n",
       "2018-05-31  -0.005375  -0.006126  -0.007568\n",
       "\n",
       "[1329 rows x 3 columns]"
      ]
     },
     "execution_count": 125,
     "metadata": {},
     "output_type": "execute_result"
    }
   ],
   "source": [
    "# Calculate daily returns of stocks\n",
    "returns_daily = full_df.pct_change()\n",
    "returns_daily\n"
   ]
  },
  {
   "cell_type": "code",
   "execution_count": 126,
   "metadata": {},
   "outputs": [
    {
     "data": {
      "text/html": [
       "<div>\n",
       "<style scoped>\n",
       "    .dataframe tbody tr th:only-of-type {\n",
       "        vertical-align: middle;\n",
       "    }\n",
       "\n",
       "    .dataframe tbody tr th {\n",
       "        vertical-align: top;\n",
       "    }\n",
       "\n",
       "    .dataframe thead th {\n",
       "        text-align: right;\n",
       "    }\n",
       "</style>\n",
       "<table border=\"1\" class=\"dataframe\">\n",
       "  <thead>\n",
       "    <tr style=\"text-align: right;\">\n",
       "      <th></th>\n",
       "      <th>Adj_Close</th>\n",
       "      <th>Adj_Close</th>\n",
       "      <th>Adj_Close</th>\n",
       "    </tr>\n",
       "    <tr>\n",
       "      <th>Date</th>\n",
       "      <th></th>\n",
       "      <th></th>\n",
       "      <th></th>\n",
       "    </tr>\n",
       "  </thead>\n",
       "  <tbody>\n",
       "    <tr>\n",
       "      <th>2013-03-01</th>\n",
       "      <td>0.047006</td>\n",
       "      <td>0.011235</td>\n",
       "      <td>0.000504</td>\n",
       "    </tr>\n",
       "    <tr>\n",
       "      <th>2013-04-01</th>\n",
       "      <td>0.320416</td>\n",
       "      <td>0.030471</td>\n",
       "      <td>0.037543</td>\n",
       "    </tr>\n",
       "    <tr>\n",
       "      <th>2013-05-01</th>\n",
       "      <td>-0.001790</td>\n",
       "      <td>0.014290</td>\n",
       "      <td>0.004701</td>\n",
       "    </tr>\n",
       "    <tr>\n",
       "      <th>2013-06-03</th>\n",
       "      <td>0.048404</td>\n",
       "      <td>0.038350</td>\n",
       "      <td>0.020168</td>\n",
       "    </tr>\n",
       "    <tr>\n",
       "      <th>2013-07-01</th>\n",
       "      <td>-0.014022</td>\n",
       "      <td>-0.013014</td>\n",
       "      <td>-0.003289</td>\n",
       "    </tr>\n",
       "    <tr>\n",
       "      <th>...</th>\n",
       "      <td>...</td>\n",
       "      <td>...</td>\n",
       "      <td>...</td>\n",
       "    </tr>\n",
       "    <tr>\n",
       "      <th>2018-01-01</th>\n",
       "      <td>0.128300</td>\n",
       "      <td>0.021450</td>\n",
       "      <td>-0.010725</td>\n",
       "    </tr>\n",
       "    <tr>\n",
       "      <th>2018-02-01</th>\n",
       "      <td>0.057770</td>\n",
       "      <td>0.047662</td>\n",
       "      <td>-0.003823</td>\n",
       "    </tr>\n",
       "    <tr>\n",
       "      <th>2018-03-01</th>\n",
       "      <td>-0.103353</td>\n",
       "      <td>-0.049293</td>\n",
       "      <td>-0.048131</td>\n",
       "    </tr>\n",
       "    <tr>\n",
       "      <th>2018-04-02</th>\n",
       "      <td>0.021396</td>\n",
       "      <td>-0.034367</td>\n",
       "      <td>0.009406</td>\n",
       "    </tr>\n",
       "    <tr>\n",
       "      <th>2018-05-01</th>\n",
       "      <td>0.108322</td>\n",
       "      <td>0.029168</td>\n",
       "      <td>0.027469</td>\n",
       "    </tr>\n",
       "  </tbody>\n",
       "</table>\n",
       "<p>63 rows × 3 columns</p>\n",
       "</div>"
      ],
      "text/plain": [
       "            Adj_Close  Adj_Close  Adj_Close\n",
       "Date                                       \n",
       "2013-03-01   0.047006   0.011235   0.000504\n",
       "2013-04-01   0.320416   0.030471   0.037543\n",
       "2013-05-01  -0.001790   0.014290   0.004701\n",
       "2013-06-03   0.048404   0.038350   0.020168\n",
       "2013-07-01  -0.014022  -0.013014  -0.003289\n",
       "...               ...        ...        ...\n",
       "2018-01-01   0.128300   0.021450  -0.010725\n",
       "2018-02-01   0.057770   0.047662  -0.003823\n",
       "2018-03-01  -0.103353  -0.049293  -0.048131\n",
       "2018-04-02   0.021396  -0.034367   0.009406\n",
       "2018-05-01   0.108322   0.029168   0.027469\n",
       "\n",
       "[63 rows x 3 columns]"
      ]
     },
     "execution_count": 126,
     "metadata": {},
     "output_type": "execute_result"
    }
   ],
   "source": [
    "# Calculate monthly returns of the stocks\n",
    "returns_monthly = monthly_df.pct_change().dropna()\n",
    "returns_monthly"
   ]
  },
  {
   "cell_type": "code",
   "execution_count": 127,
   "metadata": {},
   "outputs": [
    {
     "name": "stdout",
     "output_type": "stream",
     "text": [
      "            Adj_Close  Adj_Close  Adj_Close\n",
      "Date                                       \n",
      "2018-01-01   0.128300   0.021450  -0.010725\n",
      "2018-02-01   0.057770   0.047662  -0.003823\n",
      "2018-03-01  -0.103353  -0.049293  -0.048131\n",
      "2018-04-02   0.021396  -0.034367   0.009406\n",
      "2018-05-01   0.108322   0.029168   0.027469\n"
     ]
    }
   ],
   "source": [
    "print(returns_monthly.tail())"
   ]
  },
  {
   "cell_type": "markdown",
   "metadata": {},
   "source": [
    "## Calculate covariances for volatility"
   ]
  },
  {
   "cell_type": "code",
   "execution_count": 128,
   "metadata": {},
   "outputs": [
    {
     "name": "stdout",
     "output_type": "stream",
     "text": [
      "           Adj_Close  Adj_Close  Adj_Close\n",
      "Adj_Close   0.000376   0.000057   0.000060\n",
      "Adj_Close   0.000057   0.000043   0.000023\n",
      "Adj_Close   0.000060   0.000023   0.000025\n"
     ]
    }
   ],
   "source": [
    "# Daily covariance of stocks (for each monthly period)\n",
    "covariances = {}\n",
    "rtd_idx = returns_daily.index\n",
    "for i in returns_monthly.index:    \n",
    "    # Mask daily returns for each month and year, and calculate covariance\n",
    "    mask = (rtd_idx.month == i.month) & (rtd_idx.year == i.year)\n",
    "    \n",
    "    # Use the mask to get daily returns for the current month and year of monthy returns index\n",
    "    covariances[i] = returns_daily[mask].cov()\n",
    "\n",
    "print(covariances[i])"
   ]
  },
  {
   "cell_type": "code",
   "execution_count": null,
   "metadata": {},
   "outputs": [],
   "source": []
  }
 ],
 "metadata": {
  "kernelspec": {
   "display_name": "Python",
   "language": "python",
   "name": "conda-env-python-py"
  },
  "language_info": {
   "codemirror_mode": {
    "name": "ipython",
    "version": 3
   },
   "file_extension": ".py",
   "mimetype": "text/x-python",
   "name": "python",
   "nbconvert_exporter": "python",
   "pygments_lexer": "ipython3",
   "version": "3.6.10"
  }
 },
 "nbformat": 4,
 "nbformat_minor": 4
}
