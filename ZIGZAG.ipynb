{
  "nbformat": 4,
  "nbformat_minor": 0,
  "metadata": {
    "colab": {
      "name": "Untitled3.ipynb",
      "provenance": [],
      "authorship_tag": "ABX9TyMcugFDI8C608+6xJDHw2F2",
      "include_colab_link": true
    },
    "kernelspec": {
      "name": "python3",
      "display_name": "Python 3"
    }
  },
  "cells": [
    {
      "cell_type": "markdown",
      "metadata": {
        "id": "view-in-github",
        "colab_type": "text"
      },
      "source": [
        "<a href=\"https://colab.research.google.com/github/gmineo/Finance/blob/master/ZIGZAG.ipynb\" target=\"_parent\"><img src=\"https://colab.research.google.com/assets/colab-badge.svg\" alt=\"Open In Colab\"/></a>"
      ]
    },
    {
      "cell_type": "code",
      "metadata": {
        "colab": {
          "base_uri": "https://localhost:8080/"
        },
        "id": "kR9PRB81wxzZ",
        "outputId": "5432ff47-1ba5-45e9-cf00-491ca6d047f0"
      },
      "source": [
        "pip install zigzag"
      ],
      "execution_count": 1,
      "outputs": [
        {
          "output_type": "stream",
          "text": [
            "Collecting zigzag\n",
            "\u001b[?25l  Downloading https://files.pythonhosted.org/packages/f5/13/fc7b92091a6ef23b26c1f4a6196276e226775fb199f533c90b917e1c417e/ZigZag-0.2.2.tar.gz (126kB)\n",
            "\r\u001b[K     |██▋                             | 10kB 13.9MB/s eta 0:00:01\r\u001b[K     |█████▏                          | 20kB 9.9MB/s eta 0:00:01\r\u001b[K     |███████▊                        | 30kB 7.6MB/s eta 0:00:01\r\u001b[K     |██████████▍                     | 40kB 7.0MB/s eta 0:00:01\r\u001b[K     |█████████████                   | 51kB 4.1MB/s eta 0:00:01\r\u001b[K     |███████████████▌                | 61kB 4.6MB/s eta 0:00:01\r\u001b[K     |██████████████████▏             | 71kB 4.6MB/s eta 0:00:01\r\u001b[K     |████████████████████▊           | 81kB 5.0MB/s eta 0:00:01\r\u001b[K     |███████████████████████▎        | 92kB 5.2MB/s eta 0:00:01\r\u001b[K     |█████████████████████████▉      | 102kB 5.2MB/s eta 0:00:01\r\u001b[K     |████████████████████████████▌   | 112kB 5.2MB/s eta 0:00:01\r\u001b[K     |███████████████████████████████ | 122kB 5.2MB/s eta 0:00:01\r\u001b[K     |████████████████████████████████| 133kB 5.2MB/s \n",
            "\u001b[?25hBuilding wheels for collected packages: zigzag\n",
            "  Building wheel for zigzag (setup.py) ... \u001b[?25l\u001b[?25hdone\n",
            "  Created wheel for zigzag: filename=ZigZag-0.2.2-cp37-cp37m-linux_x86_64.whl size=440845 sha256=b2775b478a8844911c29a1505abe1d41916d12a7cb44db22e1d102250e9b63a8\n",
            "  Stored in directory: /root/.cache/pip/wheels/e4/89/d3/e46d345744603d1508f478580b7a149e179f3a7cd7d7a27862\n",
            "Successfully built zigzag\n",
            "Installing collected packages: zigzag\n",
            "Successfully installed zigzag-0.2.2\n"
          ],
          "name": "stdout"
        }
      ]
    },
    {
      "cell_type": "code",
      "metadata": {
        "colab": {
          "base_uri": "https://localhost:8080/"
        },
        "id": "Ct7mzTi3x-1X",
        "outputId": "c696f986-193d-4ed0-9cb8-4ca937a8525c"
      },
      "source": [
        "pip install yfinance"
      ],
      "execution_count": 8,
      "outputs": [
        {
          "output_type": "stream",
          "text": [
            "Collecting yfinance\n",
            "  Downloading https://files.pythonhosted.org/packages/7a/e8/b9d7104d3a4bf39924799067592d9e59119fcfc900a425a12e80a3123ec8/yfinance-0.1.55.tar.gz\n",
            "Requirement already satisfied: pandas>=0.24 in /usr/local/lib/python3.7/dist-packages (from yfinance) (1.1.5)\n",
            "Requirement already satisfied: numpy>=1.15 in /usr/local/lib/python3.7/dist-packages (from yfinance) (1.19.5)\n",
            "Requirement already satisfied: requests>=2.20 in /usr/local/lib/python3.7/dist-packages (from yfinance) (2.23.0)\n",
            "Requirement already satisfied: multitasking>=0.0.7 in /usr/local/lib/python3.7/dist-packages (from yfinance) (0.0.9)\n",
            "Collecting lxml>=4.5.1\n",
            "\u001b[?25l  Downloading https://files.pythonhosted.org/packages/d2/88/b25778f17e5320c1c58f8c5060fb5b037288e162bd7554c30799e9ea90db/lxml-4.6.2-cp37-cp37m-manylinux1_x86_64.whl (5.5MB)\n",
            "\u001b[K     |████████████████████████████████| 5.5MB 6.6MB/s \n",
            "\u001b[?25hRequirement already satisfied: pytz>=2017.2 in /usr/local/lib/python3.7/dist-packages (from pandas>=0.24->yfinance) (2018.9)\n",
            "Requirement already satisfied: python-dateutil>=2.7.3 in /usr/local/lib/python3.7/dist-packages (from pandas>=0.24->yfinance) (2.8.1)\n",
            "Requirement already satisfied: urllib3!=1.25.0,!=1.25.1,<1.26,>=1.21.1 in /usr/local/lib/python3.7/dist-packages (from requests>=2.20->yfinance) (1.24.3)\n",
            "Requirement already satisfied: idna<3,>=2.5 in /usr/local/lib/python3.7/dist-packages (from requests>=2.20->yfinance) (2.10)\n",
            "Requirement already satisfied: chardet<4,>=3.0.2 in /usr/local/lib/python3.7/dist-packages (from requests>=2.20->yfinance) (3.0.4)\n",
            "Requirement already satisfied: certifi>=2017.4.17 in /usr/local/lib/python3.7/dist-packages (from requests>=2.20->yfinance) (2020.12.5)\n",
            "Requirement already satisfied: six>=1.5 in /usr/local/lib/python3.7/dist-packages (from python-dateutil>=2.7.3->pandas>=0.24->yfinance) (1.15.0)\n",
            "Building wheels for collected packages: yfinance\n",
            "  Building wheel for yfinance (setup.py) ... \u001b[?25l\u001b[?25hdone\n",
            "  Created wheel for yfinance: filename=yfinance-0.1.55-py2.py3-none-any.whl size=22616 sha256=76e2cd435dfe88bf3954f8d4240f5c79364209994dd8eb4629999de85bac0f11\n",
            "  Stored in directory: /root/.cache/pip/wheels/04/98/cc/2702a4242d60bdc14f48b4557c427ded1fe92aedf257d4565c\n",
            "Successfully built yfinance\n",
            "Installing collected packages: lxml, yfinance\n",
            "  Found existing installation: lxml 4.2.6\n",
            "    Uninstalling lxml-4.2.6:\n",
            "      Successfully uninstalled lxml-4.2.6\n",
            "Successfully installed lxml-4.6.2 yfinance-0.1.55\n"
          ],
          "name": "stdout"
        }
      ]
    },
    {
      "cell_type": "code",
      "metadata": {
        "colab": {
          "base_uri": "https://localhost:8080/"
        },
        "id": "o8P8qa7tyGeW",
        "outputId": "4f7b0958-fe0d-48be-de5e-f943707a2a2c"
      },
      "source": [
        "import yfinance as yf\n",
        "\n",
        "data = yf.download(\"TSLA\", start=\"2019-01-01\", end=\"2019-04-30\")"
      ],
      "execution_count": 30,
      "outputs": [
        {
          "output_type": "stream",
          "text": [
            "\r[*********************100%***********************]  1 of 1 completed\n"
          ],
          "name": "stdout"
        }
      ]
    },
    {
      "cell_type": "code",
      "metadata": {
        "id": "XuShDJnUy0jw"
      },
      "source": [
        "data=data['Adj Close']"
      ],
      "execution_count": 31,
      "outputs": []
    },
    {
      "cell_type": "code",
      "metadata": {
        "id": "z2P2I9uDzBNm"
      },
      "source": [
        "X = data.to_numpy()"
      ],
      "execution_count": 32,
      "outputs": []
    },
    {
      "cell_type": "code",
      "metadata": {
        "id": "e3av7XKAw14f"
      },
      "source": [
        "%matplotlib inline\n",
        "\n",
        "import matplotlib.pyplot as plt\n",
        "import numpy as np\n",
        "import pandas as pd\n",
        "from zigzag import *"
      ],
      "execution_count": 34,
      "outputs": []
    },
    {
      "cell_type": "code",
      "metadata": {
        "id": "IaqsDGnmxWxR"
      },
      "source": [
        "X = arr\n",
        "pivots = peak_valley_pivots(X, 0.003, -0.003)\n"
      ],
      "execution_count": 66,
      "outputs": []
    },
    {
      "cell_type": "code",
      "metadata": {
        "id": "mSLaPCi1xaQX"
      },
      "source": [
        "def plot_pivots(X, pivots):\n",
        "    plt.xlim(0, len(X))\n",
        "    plt.ylim(X.min()*0.99, X.max()*1.01)\n",
        "    plt.plot(np.arange(len(X)), X, 'k:', alpha=1)\n",
        "    plt.plot(np.arange(len(X))[pivots != 0], X[pivots != 0], 'k-')\n",
        "    plt.scatter(np.arange(len(X))[pivots == 1], X[pivots == 1], color='g')\n",
        "    plt.scatter(np.arange(len(X))[pivots == -1], X[pivots == -1], color='r')"
      ],
      "execution_count": 67,
      "outputs": []
    },
    {
      "cell_type": "code",
      "metadata": {
        "colab": {
          "base_uri": "https://localhost:8080/",
          "height": 265
        },
        "id": "8k6N4T_0xkDF",
        "outputId": "d938df56-41f1-4279-a5a1-c89522f9f3f1"
      },
      "source": [
        "plot_pivots(X, pivots)"
      ],
      "execution_count": 68,
      "outputs": [
        {
          "output_type": "display_data",
          "data": {
            "image/png": "[encoded data removed]",
            "text/plain": [
              "<Figure size 432x288 with 1 Axes>"
            ]
          },
          "metadata": {
            "tags": [],
            "needs_background": "light"
          }
        }
      ]
    },
    {
      "cell_type": "code",
      "metadata": {
        "id": "4NFoSgJSxm_d"
      },
      "source": [
        ""
      ],
      "execution_count": null,
      "outputs": []
    }
  ]
}